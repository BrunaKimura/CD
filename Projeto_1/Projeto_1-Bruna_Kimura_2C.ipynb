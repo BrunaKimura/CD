{
 "cells": [
  {
   "cell_type": "markdown",
   "metadata": {
    "collapsed": true
   },
   "source": [
    "Projeto 1 - Ciêcia dos Dados\n",
    "\n",
    "## Bruna Mayumi Kimura\n",
    "\n",
    "# <font color='red'>PERFIL DOS APOSENTADOS</font> \n",
    "\n"
   ]
  },
  {
   "cell_type": "markdown",
   "metadata": {},
   "source": [
    "## <font color='blue'>Introdução</font>\n",
    "\n",
    "#### A aposentadoria é um direito dos trabalhadores. Porém, muitos deles encontram um verdadeiro drama para consegui-la, principalmente agricultores. Estes tem muita dificuldade em comprovar os seus anos de trabalhos, encontrando assim, um grande epencilho para conseguir sua aposentadoria. O objetivo desta análise de dados é compreender melhor como se distribuem estes aposentados ou idosos que deveriam ter seus direitos de aposentadorias por diversas categorias. Todas análises giram em torno das populações economicamente ativas das regiões agrícolas e não agrícolas. "
   ]
  },
  {
   "cell_type": "code",
   "execution_count": 1,
   "metadata": {
    "collapsed": true
   },
   "outputs": [],
   "source": [
    "import matplotlib.pyplot as plt\n",
    "import pandas as pd\n",
    "import os\n",
    "from numpy import arange\n",
    "%matplotlib inline"
   ]
  },
  {
   "cell_type": "code",
   "execution_count": 2,
   "metadata": {
    "collapsed": false
   },
   "outputs": [
    {
     "name": "stdout",
     "output_type": "stream",
     "text": [
      "Esperamos trabalhar no diretório\n",
      "C:\\Users\\Bruna\\Documents\\GitHub\\CD\\Projeto_1\n"
     ]
    }
   ],
   "source": [
    "print('Esperamos trabalhar no diretório')\n",
    "print(os.getcwd())"
   ]
  },
  {
   "cell_type": "code",
   "execution_count": 3,
   "metadata": {
    "collapsed": false
   },
   "outputs": [],
   "source": [
    "dados = pd.read_csv('PES2014_extraido.csv', sep=',')"
   ]
  },
  {
   "cell_type": "code",
   "execution_count": 4,
   "metadata": {
    "collapsed": false,
    "scrolled": false
   },
   "outputs": [
    {
     "data": {
      "text/html": [
       "<div>\n",
       "<table border=\"1\" class=\"dataframe\">\n",
       "  <thead>\n",
       "    <tr style=\"text-align: right;\">\n",
       "      <th></th>\n",
       "      <th>Unnamed: 0</th>\n",
       "      <th>V0101</th>\n",
       "      <th>UF</th>\n",
       "      <th>V0102</th>\n",
       "      <th>V0103</th>\n",
       "      <th>V0301</th>\n",
       "      <th>V0302</th>\n",
       "      <th>V3031</th>\n",
       "      <th>V3032</th>\n",
       "      <th>V3033</th>\n",
       "      <th>...</th>\n",
       "      <th>V4741</th>\n",
       "      <th>V4742</th>\n",
       "      <th>V4743</th>\n",
       "      <th>V4745</th>\n",
       "      <th>V4746</th>\n",
       "      <th>V4747</th>\n",
       "      <th>V4748</th>\n",
       "      <th>V4749</th>\n",
       "      <th>V4750</th>\n",
       "      <th>V9993</th>\n",
       "    </tr>\n",
       "  </thead>\n",
       "  <tbody>\n",
       "    <tr>\n",
       "      <th>0</th>\n",
       "      <td>0</td>\n",
       "      <td>2014</td>\n",
       "      <td>11</td>\n",
       "      <td>15</td>\n",
       "      <td>1</td>\n",
       "      <td>1</td>\n",
       "      <td>2</td>\n",
       "      <td>19</td>\n",
       "      <td>8</td>\n",
       "      <td>1987</td>\n",
       "      <td>...</td>\n",
       "      <td>3.0</td>\n",
       "      <td>500.0</td>\n",
       "      <td>3.0</td>\n",
       "      <td>3</td>\n",
       "      <td>1.0</td>\n",
       "      <td>2.0</td>\n",
       "      <td>2.0</td>\n",
       "      <td>1.0</td>\n",
       "      <td>500.0</td>\n",
       "      <td>20160623</td>\n",
       "    </tr>\n",
       "    <tr>\n",
       "      <th>1</th>\n",
       "      <td>1</td>\n",
       "      <td>2014</td>\n",
       "      <td>11</td>\n",
       "      <td>15</td>\n",
       "      <td>1</td>\n",
       "      <td>2</td>\n",
       "      <td>4</td>\n",
       "      <td>19</td>\n",
       "      <td>1</td>\n",
       "      <td>1986</td>\n",
       "      <td>...</td>\n",
       "      <td>3.0</td>\n",
       "      <td>500.0</td>\n",
       "      <td>3.0</td>\n",
       "      <td>4</td>\n",
       "      <td>2.0</td>\n",
       "      <td>NaN</td>\n",
       "      <td>2.0</td>\n",
       "      <td>1.0</td>\n",
       "      <td>500.0</td>\n",
       "      <td>20160623</td>\n",
       "    </tr>\n",
       "    <tr>\n",
       "      <th>2</th>\n",
       "      <td>2</td>\n",
       "      <td>2014</td>\n",
       "      <td>11</td>\n",
       "      <td>15</td>\n",
       "      <td>1</td>\n",
       "      <td>3</td>\n",
       "      <td>2</td>\n",
       "      <td>14</td>\n",
       "      <td>5</td>\n",
       "      <td>2013</td>\n",
       "      <td>...</td>\n",
       "      <td>3.0</td>\n",
       "      <td>500.0</td>\n",
       "      <td>3.0</td>\n",
       "      <td>1</td>\n",
       "      <td>NaN</td>\n",
       "      <td>NaN</td>\n",
       "      <td>NaN</td>\n",
       "      <td>NaN</td>\n",
       "      <td>500.0</td>\n",
       "      <td>20160623</td>\n",
       "    </tr>\n",
       "    <tr>\n",
       "      <th>3</th>\n",
       "      <td>3</td>\n",
       "      <td>2014</td>\n",
       "      <td>11</td>\n",
       "      <td>15</td>\n",
       "      <td>2</td>\n",
       "      <td>1</td>\n",
       "      <td>2</td>\n",
       "      <td>8</td>\n",
       "      <td>4</td>\n",
       "      <td>1963</td>\n",
       "      <td>...</td>\n",
       "      <td>2.0</td>\n",
       "      <td>1150.0</td>\n",
       "      <td>4.0</td>\n",
       "      <td>2</td>\n",
       "      <td>1.0</td>\n",
       "      <td>2.0</td>\n",
       "      <td>2.0</td>\n",
       "      <td>1.0</td>\n",
       "      <td>1150.0</td>\n",
       "      <td>20160623</td>\n",
       "    </tr>\n",
       "    <tr>\n",
       "      <th>4</th>\n",
       "      <td>4</td>\n",
       "      <td>2014</td>\n",
       "      <td>11</td>\n",
       "      <td>15</td>\n",
       "      <td>2</td>\n",
       "      <td>2</td>\n",
       "      <td>4</td>\n",
       "      <td>6</td>\n",
       "      <td>11</td>\n",
       "      <td>1970</td>\n",
       "      <td>...</td>\n",
       "      <td>2.0</td>\n",
       "      <td>1150.0</td>\n",
       "      <td>4.0</td>\n",
       "      <td>3</td>\n",
       "      <td>1.0</td>\n",
       "      <td>2.0</td>\n",
       "      <td>2.0</td>\n",
       "      <td>1.0</td>\n",
       "      <td>1150.0</td>\n",
       "      <td>20160623</td>\n",
       "    </tr>\n",
       "  </tbody>\n",
       "</table>\n",
       "<p>5 rows × 342 columns</p>\n",
       "</div>"
      ],
      "text/plain": [
       "   Unnamed: 0  V0101  UF  V0102  V0103  V0301  V0302  V3031  V3032  V3033  \\\n",
       "0           0   2014  11     15      1      1      2     19      8   1987   \n",
       "1           1   2014  11     15      1      2      4     19      1   1986   \n",
       "2           2   2014  11     15      1      3      2     14      5   2013   \n",
       "3           3   2014  11     15      2      1      2      8      4   1963   \n",
       "4           4   2014  11     15      2      2      4      6     11   1970   \n",
       "\n",
       "     ...     V4741   V4742  V4743  V4745  V4746  V4747  V4748  V4749   V4750  \\\n",
       "0    ...       3.0   500.0    3.0      3    1.0    2.0    2.0    1.0   500.0   \n",
       "1    ...       3.0   500.0    3.0      4    2.0    NaN    2.0    1.0   500.0   \n",
       "2    ...       3.0   500.0    3.0      1    NaN    NaN    NaN    NaN   500.0   \n",
       "3    ...       2.0  1150.0    4.0      2    1.0    2.0    2.0    1.0  1150.0   \n",
       "4    ...       2.0  1150.0    4.0      3    1.0    2.0    2.0    1.0  1150.0   \n",
       "\n",
       "      V9993  \n",
       "0  20160623  \n",
       "1  20160623  \n",
       "2  20160623  \n",
       "3  20160623  \n",
       "4  20160623  \n",
       "\n",
       "[5 rows x 342 columns]"
      ]
     },
     "execution_count": 4,
     "metadata": {},
     "output_type": "execute_result"
    }
   ],
   "source": [
    "dados.head()"
   ]
  },
  {
   "cell_type": "markdown",
   "metadata": {},
   "source": [
    "## <font color='blue'>Análise 1 - relação da agricultura e aposentados na população</font>\n",
    "\n",
    "#### A primeira análise diz a respeito da quantidade de pessoas na agricultura economicamente ativas. O nosso filtro passa apenas para esses agricultores. Queremos saber qual é a proporção dessas pessoas na população total. Além disso quem são os aposentados comparados com a população total. E enfim, como esses dois grupos de estudos se relacionam."
   ]
  },
  {
   "cell_type": "code",
   "execution_count": 5,
   "metadata": {
    "collapsed": false
   },
   "outputs": [
    {
     "data": {
      "text/plain": [
       "0    2.0\n",
       "1    NaN\n",
       "2    NaN\n",
       "3    2.0\n",
       "4    2.0\n",
       "Name: V4747, dtype: float64"
      ]
     },
     "execution_count": 5,
     "metadata": {},
     "output_type": "execute_result"
    }
   ],
   "source": [
    "#comparar a quantidade de pessoas na agricultura 'V4747'\n",
    "dados.V4747.head()"
   ]
  },
  {
   "cell_type": "code",
   "execution_count": 6,
   "metadata": {
    "collapsed": false
   },
   "outputs": [],
   "source": [
    "dados2014 = dados[(~dados.V4747.isnull())&(~dados.V9122.isnull())]"
   ]
  },
  {
   "cell_type": "code",
   "execution_count": 7,
   "metadata": {
    "collapsed": false
   },
   "outputs": [
    {
     "name": "stdout",
     "output_type": "stream",
     "text": [
      "Frequências relativas por :\n",
      "Agrícula        13.9\n",
      "Não agrícula    86.1\n",
      "dtype: float64 \n",
      "\n"
     ]
    },
    {
     "name": "stderr",
     "output_type": "stream",
     "text": [
      "C:\\Users\\Bruna\\Anaconda3\\lib\\site-packages\\pandas\\core\\generic.py:2698: SettingWithCopyWarning: \n",
      "A value is trying to be set on a copy of a slice from a DataFrame.\n",
      "Try using .loc[row_indexer,col_indexer] = value instead\n",
      "\n",
      "See the caveats in the documentation: http://pandas.pydata.org/pandas-docs/stable/indexing.html#indexing-view-versus-copy\n",
      "  self[name] = value\n"
     ]
    }
   ],
   "source": [
    "n=dados2014.shape[0]\n",
    "dados2014.V4747 = dados2014.V4747.astype('category')\n",
    "\n",
    "dados2014.V4747.cat.categories = ('Agrícula','Não agrícula')\n",
    "\n",
    "dados2014.V4747.head()\n",
    "\n",
    "print('Frequências relativas por :')\n",
    "ut1 = (dados2014.V4747.value_counts()/n*100).round(decimals=1).reindex(['Agrícula','Não agrícula'])\n",
    "print(ut1,'\\n')"
   ]
  },
  {
   "cell_type": "code",
   "execution_count": 93,
   "metadata": {
    "collapsed": false
   },
   "outputs": [
    {
     "data": {
      "image/png": "[encoded data removed]",
      "text/plain": [
       "<matplotlib.figure.Figure at 0x2173f3f2208>"
      ]
     },
     "metadata": {},
     "output_type": "display_data"
    }
   ],
   "source": [
    "ut1.plot(kind='pie', colors=('lightcyan','lightblue'), shadow=True,explode=(0.1,0),\n",
    "                 autopct=\"%0.1f\",legend=False, subplots=True, figsize=(8,8))\n",
    "plt.show()"
   ]
  },
  {
   "cell_type": "markdown",
   "metadata": {},
   "source": [
    "#### Podemos analisar agora com é a minha população de aposentados comparado ao total."
   ]
  },
  {
   "cell_type": "code",
   "execution_count": 9,
   "metadata": {
    "collapsed": false
   },
   "outputs": [
    {
     "data": {
      "text/plain": [
       "0    4.0\n",
       "3    4.0\n",
       "4    4.0\n",
       "7    4.0\n",
       "8    4.0\n",
       "Name: V9122, dtype: float64"
      ]
     },
     "execution_count": 9,
     "metadata": {},
     "output_type": "execute_result"
    }
   ],
   "source": [
    "#Quantidade de pessoas aposentadas ou não\n",
    "\n",
    "dados2014.V9122.head()"
   ]
  },
  {
   "cell_type": "code",
   "execution_count": 10,
   "metadata": {
    "collapsed": false
   },
   "outputs": [
    {
     "name": "stdout",
     "output_type": "stream",
     "text": [
      "Frequências relativas por Aposentadoria:\n",
      "Sim     5.8\n",
      "Não    94.2\n",
      "dtype: float64 \n",
      "\n"
     ]
    },
    {
     "name": "stderr",
     "output_type": "stream",
     "text": [
      "C:\\Users\\Bruna\\Anaconda3\\lib\\site-packages\\pandas\\core\\generic.py:2698: SettingWithCopyWarning: \n",
      "A value is trying to be set on a copy of a slice from a DataFrame.\n",
      "Try using .loc[row_indexer,col_indexer] = value instead\n",
      "\n",
      "See the caveats in the documentation: http://pandas.pydata.org/pandas-docs/stable/indexing.html#indexing-view-versus-copy\n",
      "  self[name] = value\n"
     ]
    }
   ],
   "source": [
    "n=dados2014.shape[0]\n",
    "dados2014.V9122 = dados2014.V9122.astype('category')\n",
    "\n",
    "\n",
    "dados2014.V9122.cat.categories = ('Sim','Não')\n",
    "\n",
    "dados2014.V9122.head()\n",
    "\n",
    "print('Frequências relativas por Aposentadoria:')\n",
    "ut2 = (dados2014.V9122.value_counts()/n*100).round(decimals=1).reindex(['Sim','Não'])\n",
    "print(ut2,'\\n')"
   ]
  },
  {
   "cell_type": "code",
   "execution_count": 11,
   "metadata": {
    "collapsed": false
   },
   "outputs": [
    {
     "data": {
      "image/png": "[encoded data removed]",
      "text/plain": [
       "<matplotlib.figure.Figure at 0x21773689240>"
      ]
     },
     "metadata": {},
     "output_type": "display_data"
    }
   ],
   "source": [
    "explode=(0.2,0)\n",
    "\n",
    "ut2.plot(kind='pie', colors=('MediumAquamarine', 'Salmon'), shadow = True, explode=explode,\n",
    "                 autopct=\"%0.1f\",legend=False, subplots=True, figsize=(8,8))\n",
    "plt.show()"
   ]
  },
  {
   "cell_type": "markdown",
   "metadata": {},
   "source": [
    "#### Por fim iremos cruzar ambas para ver como elas se distribuem entre si"
   ]
  },
  {
   "cell_type": "code",
   "execution_count": 12,
   "metadata": {
    "collapsed": false
   },
   "outputs": [
    {
     "name": "stdout",
     "output_type": "stream",
     "text": [
      "Tabela Cruzada por total GERAL: agricultura X aposentados\n"
     ]
    },
    {
     "data": {
      "text/html": [
       "<div>\n",
       "<table border=\"1\" class=\"dataframe\">\n",
       "  <thead>\n",
       "    <tr style=\"text-align: right;\">\n",
       "      <th>Aposentados</th>\n",
       "      <th>Sim</th>\n",
       "      <th>Não</th>\n",
       "    </tr>\n",
       "    <tr>\n",
       "      <th>Agricultura</th>\n",
       "      <th></th>\n",
       "      <th></th>\n",
       "    </tr>\n",
       "  </thead>\n",
       "  <tbody>\n",
       "    <tr>\n",
       "      <th>Agrícula</th>\n",
       "      <td>4433</td>\n",
       "      <td>20172</td>\n",
       "    </tr>\n",
       "    <tr>\n",
       "      <th>Não agrícula</th>\n",
       "      <td>5749</td>\n",
       "      <td>146256</td>\n",
       "    </tr>\n",
       "  </tbody>\n",
       "</table>\n",
       "</div>"
      ],
      "text/plain": [
       "Aposentados    Sim     Não\n",
       "Agricultura               \n",
       "Agrícula      4433   20172\n",
       "Não agrícula  5749  146256"
      ]
     },
     "execution_count": 12,
     "metadata": {},
     "output_type": "execute_result"
    }
   ],
   "source": [
    "#Cruzando as duas tabelas para definir o grupo a ser estudado\n",
    "\n",
    "print('Tabela Cruzada por total GERAL: agricultura X aposentados')\n",
    "ct1=pd.crosstab(dados2014.V4747,dados2014.V9122,rownames=['Agricultura'], colnames=['Aposentados'])\n",
    "ct1"
   ]
  },
  {
   "cell_type": "code",
   "execution_count": 13,
   "metadata": {
    "collapsed": false
   },
   "outputs": [
    {
     "name": "stdout",
     "output_type": "stream",
     "text": [
      "Tabela Cruzada por total GERAL (em %):\n"
     ]
    },
    {
     "data": {
      "text/html": [
       "<div>\n",
       "<table border=\"1\" class=\"dataframe\">\n",
       "  <thead>\n",
       "    <tr style=\"text-align: right;\">\n",
       "      <th>Aposentados</th>\n",
       "      <th>Sim</th>\n",
       "      <th>Não</th>\n",
       "    </tr>\n",
       "    <tr>\n",
       "      <th>Agricultura</th>\n",
       "      <th></th>\n",
       "      <th></th>\n",
       "    </tr>\n",
       "  </thead>\n",
       "  <tbody>\n",
       "    <tr>\n",
       "      <th>Agrícula</th>\n",
       "      <td>2.510050</td>\n",
       "      <td>11.421777</td>\n",
       "    </tr>\n",
       "    <tr>\n",
       "      <th>Não agrícula</th>\n",
       "      <td>3.255195</td>\n",
       "      <td>82.812978</td>\n",
       "    </tr>\n",
       "  </tbody>\n",
       "</table>\n",
       "</div>"
      ],
      "text/plain": [
       "Aposentados        Sim        Não\n",
       "Agricultura                      \n",
       "Agrícula      2.510050  11.421777\n",
       "Não agrícula  3.255195  82.812978"
      ]
     },
     "execution_count": 13,
     "metadata": {},
     "output_type": "execute_result"
    }
   ],
   "source": [
    "print('Tabela Cruzada por total GERAL (em %):')\n",
    "ct=(ct1/len(dados2014)*100).round(decimals=0)\n",
    "ct"
   ]
  },
  {
   "cell_type": "code",
   "execution_count": 94,
   "metadata": {
    "collapsed": false
   },
   "outputs": [
    {
     "data": {
      "image/png": "[encoded data removed]",
      "text/plain": [
       "<matplotlib.figure.Figure at 0x2173cd7cef0>"
      ]
     },
     "metadata": {},
     "output_type": "display_data"
    }
   ],
   "source": [
    "ct1['Sim'].plot(kind='pie', colors=('lightyellow','lightblue'), shadow=True,\n",
    "                 autopct=\"%0.1f\",legend=False, subplots=True, figsize=(8,8))\n",
    "plt.show()"
   ]
  },
  {
   "cell_type": "markdown",
   "metadata": {},
   "source": [
    "### Assim, podemos concluir que nosso grupo de estudo é bem pequeno, próximo de 1,22% da população. Vamos entender como esses agricultores, se distribuem na sociedade e como funciona a aposentadoria."
   ]
  },
  {
   "cell_type": "markdown",
   "metadata": {},
   "source": [
    "### Análise 2 - Distribuição das aposentadorias nas populações agrícolas e não agrícola\n",
    "\n",
    "#### Obsevar se há uma distinção entres as aposentadorias recebidas entre os grupos de estudos. "
   ]
  },
  {
   "cell_type": "code",
   "execution_count": 95,
   "metadata": {
    "collapsed": false
   },
   "outputs": [
    {
     "data": {
      "text/html": [
       "<div>\n",
       "<table border=\"1\" class=\"dataframe\">\n",
       "  <thead>\n",
       "    <tr style=\"text-align: right;\">\n",
       "      <th></th>\n",
       "      <th>Unnamed: 0</th>\n",
       "      <th>V0101</th>\n",
       "      <th>UF</th>\n",
       "      <th>V0102</th>\n",
       "      <th>V0103</th>\n",
       "      <th>V0301</th>\n",
       "      <th>V0302</th>\n",
       "      <th>V3031</th>\n",
       "      <th>V3032</th>\n",
       "      <th>V3033</th>\n",
       "      <th>...</th>\n",
       "      <th>V4741</th>\n",
       "      <th>V4742</th>\n",
       "      <th>V4743</th>\n",
       "      <th>V4745</th>\n",
       "      <th>V4746</th>\n",
       "      <th>V4747</th>\n",
       "      <th>V4748</th>\n",
       "      <th>V4749</th>\n",
       "      <th>V4750</th>\n",
       "      <th>V9993</th>\n",
       "    </tr>\n",
       "  </thead>\n",
       "  <tbody>\n",
       "    <tr>\n",
       "      <th>25</th>\n",
       "      <td>25</td>\n",
       "      <td>2014</td>\n",
       "      <td>11</td>\n",
       "      <td>15</td>\n",
       "      <td>10</td>\n",
       "      <td>1</td>\n",
       "      <td>2</td>\n",
       "      <td>15</td>\n",
       "      <td>10</td>\n",
       "      <td>1948</td>\n",
       "      <td>...</td>\n",
       "      <td>2.0</td>\n",
       "      <td>2362.0</td>\n",
       "      <td>6.0</td>\n",
       "      <td>2</td>\n",
       "      <td>1.0</td>\n",
       "      <td>Agrícula</td>\n",
       "      <td>1.0</td>\n",
       "      <td>1.0</td>\n",
       "      <td>2362.0</td>\n",
       "      <td>20160623</td>\n",
       "    </tr>\n",
       "    <tr>\n",
       "      <th>66</th>\n",
       "      <td>66</td>\n",
       "      <td>2014</td>\n",
       "      <td>11</td>\n",
       "      <td>23</td>\n",
       "      <td>8</td>\n",
       "      <td>1</td>\n",
       "      <td>2</td>\n",
       "      <td>7</td>\n",
       "      <td>8</td>\n",
       "      <td>1949</td>\n",
       "      <td>...</td>\n",
       "      <td>2.0</td>\n",
       "      <td>2862.0</td>\n",
       "      <td>6.0</td>\n",
       "      <td>5</td>\n",
       "      <td>1.0</td>\n",
       "      <td>Agrícula</td>\n",
       "      <td>1.0</td>\n",
       "      <td>1.0</td>\n",
       "      <td>2862.0</td>\n",
       "      <td>20160623</td>\n",
       "    </tr>\n",
       "    <tr>\n",
       "      <th>183</th>\n",
       "      <td>183</td>\n",
       "      <td>2014</td>\n",
       "      <td>11</td>\n",
       "      <td>40</td>\n",
       "      <td>11</td>\n",
       "      <td>1</td>\n",
       "      <td>2</td>\n",
       "      <td>30</td>\n",
       "      <td>12</td>\n",
       "      <td>1950</td>\n",
       "      <td>...</td>\n",
       "      <td>3.0</td>\n",
       "      <td>874.0</td>\n",
       "      <td>4.0</td>\n",
       "      <td>2</td>\n",
       "      <td>1.0</td>\n",
       "      <td>Agrícula</td>\n",
       "      <td>1.0</td>\n",
       "      <td>1.0</td>\n",
       "      <td>874.0</td>\n",
       "      <td>20160623</td>\n",
       "    </tr>\n",
       "    <tr>\n",
       "      <th>372</th>\n",
       "      <td>372</td>\n",
       "      <td>2014</td>\n",
       "      <td>11</td>\n",
       "      <td>82</td>\n",
       "      <td>3</td>\n",
       "      <td>1</td>\n",
       "      <td>2</td>\n",
       "      <td>14</td>\n",
       "      <td>3</td>\n",
       "      <td>1948</td>\n",
       "      <td>...</td>\n",
       "      <td>2.0</td>\n",
       "      <td>724.0</td>\n",
       "      <td>3.0</td>\n",
       "      <td>1</td>\n",
       "      <td>1.0</td>\n",
       "      <td>Agrícula</td>\n",
       "      <td>1.0</td>\n",
       "      <td>1.0</td>\n",
       "      <td>724.0</td>\n",
       "      <td>20160623</td>\n",
       "    </tr>\n",
       "    <tr>\n",
       "      <th>373</th>\n",
       "      <td>373</td>\n",
       "      <td>2014</td>\n",
       "      <td>11</td>\n",
       "      <td>82</td>\n",
       "      <td>3</td>\n",
       "      <td>2</td>\n",
       "      <td>4</td>\n",
       "      <td>7</td>\n",
       "      <td>11</td>\n",
       "      <td>1950</td>\n",
       "      <td>...</td>\n",
       "      <td>2.0</td>\n",
       "      <td>724.0</td>\n",
       "      <td>3.0</td>\n",
       "      <td>1</td>\n",
       "      <td>1.0</td>\n",
       "      <td>Agrícula</td>\n",
       "      <td>1.0</td>\n",
       "      <td>1.0</td>\n",
       "      <td>724.0</td>\n",
       "      <td>20160623</td>\n",
       "    </tr>\n",
       "  </tbody>\n",
       "</table>\n",
       "<p>5 rows × 342 columns</p>\n",
       "</div>"
      ],
      "text/plain": [
       "     Unnamed: 0  V0101  UF  V0102  V0103  V0301  V0302  V3031  V3032  V3033  \\\n",
       "25           25   2014  11     15     10      1      2     15     10   1948   \n",
       "66           66   2014  11     23      8      1      2      7      8   1949   \n",
       "183         183   2014  11     40     11      1      2     30     12   1950   \n",
       "372         372   2014  11     82      3      1      2     14      3   1948   \n",
       "373         373   2014  11     82      3      2      4      7     11   1950   \n",
       "\n",
       "       ...     V4741   V4742  V4743  V4745  V4746     V4747  V4748  V4749  \\\n",
       "25     ...       2.0  2362.0    6.0      2    1.0  Agrícula    1.0    1.0   \n",
       "66     ...       2.0  2862.0    6.0      5    1.0  Agrícula    1.0    1.0   \n",
       "183    ...       3.0   874.0    4.0      2    1.0  Agrícula    1.0    1.0   \n",
       "372    ...       2.0   724.0    3.0      1    1.0  Agrícula    1.0    1.0   \n",
       "373    ...       2.0   724.0    3.0      1    1.0  Agrícula    1.0    1.0   \n",
       "\n",
       "      V4750     V9993  \n",
       "25   2362.0  20160623  \n",
       "66   2862.0  20160623  \n",
       "183   874.0  20160623  \n",
       "372   724.0  20160623  \n",
       "373   724.0  20160623  \n",
       "\n",
       "[5 rows x 342 columns]"
      ]
     },
     "execution_count": 95,
     "metadata": {},
     "output_type": "execute_result"
    }
   ],
   "source": [
    "#quantidade da aposentadoria que a pessoa recebe V1252\n",
    "\n",
    "agri_apo = dados2014[(dados2014.V4747=='Agrícula')&(dados2014.V9122=='Sim')]\n",
    "agri_apo.head()"
   ]
  },
  {
   "cell_type": "code",
   "execution_count": 16,
   "metadata": {
    "collapsed": false
   },
   "outputs": [
    {
     "name": "stderr",
     "output_type": "stream",
     "text": [
      "C:\\Users\\Bruna\\Anaconda3\\lib\\site-packages\\ipykernel\\__main__.py:3: UserWarning: Boolean Series key will be reindexed to match DataFrame index.\n",
      "  app.launch_new_instance()\n"
     ]
    }
   ],
   "source": [
    "#cortar todos aqueles que não responderam ao questionário.\n",
    "\n",
    "dadosCut = agri_apo[(dados2014.V1252!=999999999999) & (dados2014.V4750!=999999999999)]\n"
   ]
  },
  {
   "cell_type": "code",
   "execution_count": 17,
   "metadata": {
    "collapsed": false
   },
   "outputs": [
    {
     "data": {
      "text/plain": [
       "count     4238.000000\n",
       "mean       868.394998\n",
       "std        805.067136\n",
       "min        622.000000\n",
       "25%        724.000000\n",
       "50%        724.000000\n",
       "75%        724.000000\n",
       "max      20000.000000\n",
       "Name: V1252, dtype: float64"
      ]
     },
     "execution_count": 17,
     "metadata": {},
     "output_type": "execute_result"
    }
   ],
   "source": [
    "dadosCut.V1252.describe()"
   ]
  },
  {
   "cell_type": "code",
   "execution_count": 18,
   "metadata": {
    "collapsed": false
   },
   "outputs": [],
   "source": [
    "faixa=arange(600,  6000, 100)\n",
    "b = pd.cut(dadosCut.V1252, faixa).value_counts(True)*100"
   ]
  },
  {
   "cell_type": "code",
   "execution_count": 19,
   "metadata": {
    "collapsed": false
   },
   "outputs": [
    {
     "data": {
      "text/plain": [
       "<matplotlib.axes._subplots.AxesSubplot at 0x21733b0bb38>"
      ]
     },
     "execution_count": 19,
     "metadata": {},
     "output_type": "execute_result"
    },
    {
     "data": {
      "image/png": "[encoded data removed]",
      "text/plain": [
       "<matplotlib.figure.Figure at 0x21733b137b8>"
      ]
     },
     "metadata": {},
     "output_type": "display_data"
    }
   ],
   "source": [
    "dadosCut.V1252.plot.hist(bins=faixa)"
   ]
  },
  {
   "cell_type": "markdown",
   "metadata": {},
   "source": [
    "#### Temos acima o valor das aposentadorias por frequência em que elas aparecem. Obs: Apenas se referem aos agricultors aposentados."
   ]
  },
  {
   "cell_type": "code",
   "execution_count": 20,
   "metadata": {
    "collapsed": false
   },
   "outputs": [
    {
     "data": {
      "text/html": [
       "<div>\n",
       "<table border=\"1\" class=\"dataframe\">\n",
       "  <thead>\n",
       "    <tr style=\"text-align: right;\">\n",
       "      <th></th>\n",
       "      <th>Unnamed: 0</th>\n",
       "      <th>V0101</th>\n",
       "      <th>UF</th>\n",
       "      <th>V0102</th>\n",
       "      <th>V0103</th>\n",
       "      <th>V0301</th>\n",
       "      <th>V0302</th>\n",
       "      <th>V3031</th>\n",
       "      <th>V3032</th>\n",
       "      <th>V3033</th>\n",
       "      <th>...</th>\n",
       "      <th>V4741</th>\n",
       "      <th>V4742</th>\n",
       "      <th>V4743</th>\n",
       "      <th>V4745</th>\n",
       "      <th>V4746</th>\n",
       "      <th>V4747</th>\n",
       "      <th>V4748</th>\n",
       "      <th>V4749</th>\n",
       "      <th>V4750</th>\n",
       "      <th>V9993</th>\n",
       "    </tr>\n",
       "  </thead>\n",
       "  <tbody>\n",
       "    <tr>\n",
       "      <th>77</th>\n",
       "      <td>77</td>\n",
       "      <td>2014</td>\n",
       "      <td>11</td>\n",
       "      <td>23</td>\n",
       "      <td>13</td>\n",
       "      <td>1</td>\n",
       "      <td>4</td>\n",
       "      <td>27</td>\n",
       "      <td>2</td>\n",
       "      <td>1956</td>\n",
       "      <td>...</td>\n",
       "      <td>2.0</td>\n",
       "      <td>924.0</td>\n",
       "      <td>4.0</td>\n",
       "      <td>2</td>\n",
       "      <td>1.0</td>\n",
       "      <td>Não agrícula</td>\n",
       "      <td>2.0</td>\n",
       "      <td>1.0</td>\n",
       "      <td>924.0</td>\n",
       "      <td>20160623</td>\n",
       "    </tr>\n",
       "    <tr>\n",
       "      <th>87</th>\n",
       "      <td>87</td>\n",
       "      <td>2014</td>\n",
       "      <td>11</td>\n",
       "      <td>23</td>\n",
       "      <td>16</td>\n",
       "      <td>1</td>\n",
       "      <td>4</td>\n",
       "      <td>3</td>\n",
       "      <td>5</td>\n",
       "      <td>1951</td>\n",
       "      <td>...</td>\n",
       "      <td>2.0</td>\n",
       "      <td>1321.0</td>\n",
       "      <td>4.0</td>\n",
       "      <td>1</td>\n",
       "      <td>1.0</td>\n",
       "      <td>Não agrícula</td>\n",
       "      <td>2.0</td>\n",
       "      <td>1.0</td>\n",
       "      <td>1321.0</td>\n",
       "      <td>20160623</td>\n",
       "    </tr>\n",
       "    <tr>\n",
       "      <th>98</th>\n",
       "      <td>98</td>\n",
       "      <td>2014</td>\n",
       "      <td>11</td>\n",
       "      <td>31</td>\n",
       "      <td>2</td>\n",
       "      <td>1</td>\n",
       "      <td>2</td>\n",
       "      <td>0</td>\n",
       "      <td>20</td>\n",
       "      <td>71</td>\n",
       "      <td>...</td>\n",
       "      <td>2.0</td>\n",
       "      <td>762.0</td>\n",
       "      <td>4.0</td>\n",
       "      <td>2</td>\n",
       "      <td>1.0</td>\n",
       "      <td>Não agrícula</td>\n",
       "      <td>2.0</td>\n",
       "      <td>1.0</td>\n",
       "      <td>762.0</td>\n",
       "      <td>20160623</td>\n",
       "    </tr>\n",
       "    <tr>\n",
       "      <th>138</th>\n",
       "      <td>138</td>\n",
       "      <td>2014</td>\n",
       "      <td>11</td>\n",
       "      <td>31</td>\n",
       "      <td>16</td>\n",
       "      <td>1</td>\n",
       "      <td>4</td>\n",
       "      <td>15</td>\n",
       "      <td>6</td>\n",
       "      <td>1975</td>\n",
       "      <td>...</td>\n",
       "      <td>5.0</td>\n",
       "      <td>1248.0</td>\n",
       "      <td>4.0</td>\n",
       "      <td>4</td>\n",
       "      <td>1.0</td>\n",
       "      <td>Não agrícula</td>\n",
       "      <td>2.0</td>\n",
       "      <td>1.0</td>\n",
       "      <td>1248.0</td>\n",
       "      <td>20160623</td>\n",
       "    </tr>\n",
       "    <tr>\n",
       "      <th>257</th>\n",
       "      <td>257</td>\n",
       "      <td>2014</td>\n",
       "      <td>11</td>\n",
       "      <td>66</td>\n",
       "      <td>1</td>\n",
       "      <td>1</td>\n",
       "      <td>2</td>\n",
       "      <td>19</td>\n",
       "      <td>5</td>\n",
       "      <td>1937</td>\n",
       "      <td>...</td>\n",
       "      <td>2.0</td>\n",
       "      <td>1162.0</td>\n",
       "      <td>4.0</td>\n",
       "      <td>1</td>\n",
       "      <td>1.0</td>\n",
       "      <td>Não agrícula</td>\n",
       "      <td>2.0</td>\n",
       "      <td>1.0</td>\n",
       "      <td>1162.0</td>\n",
       "      <td>20160623</td>\n",
       "    </tr>\n",
       "  </tbody>\n",
       "</table>\n",
       "<p>5 rows × 342 columns</p>\n",
       "</div>"
      ],
      "text/plain": [
       "     Unnamed: 0  V0101  UF  V0102  V0103  V0301  V0302  V3031  V3032  V3033  \\\n",
       "77           77   2014  11     23     13      1      4     27      2   1956   \n",
       "87           87   2014  11     23     16      1      4      3      5   1951   \n",
       "98           98   2014  11     31      2      1      2      0     20     71   \n",
       "138         138   2014  11     31     16      1      4     15      6   1975   \n",
       "257         257   2014  11     66      1      1      2     19      5   1937   \n",
       "\n",
       "       ...     V4741   V4742  V4743  V4745  V4746         V4747  V4748  V4749  \\\n",
       "77     ...       2.0   924.0    4.0      2    1.0  Não agrícula    2.0    1.0   \n",
       "87     ...       2.0  1321.0    4.0      1    1.0  Não agrícula    2.0    1.0   \n",
       "98     ...       2.0   762.0    4.0      2    1.0  Não agrícula    2.0    1.0   \n",
       "138    ...       5.0  1248.0    4.0      4    1.0  Não agrícula    2.0    1.0   \n",
       "257    ...       2.0  1162.0    4.0      1    1.0  Não agrícula    2.0    1.0   \n",
       "\n",
       "      V4750     V9993  \n",
       "77    924.0  20160623  \n",
       "87   1321.0  20160623  \n",
       "98    762.0  20160623  \n",
       "138  1248.0  20160623  \n",
       "257  1162.0  20160623  \n",
       "\n",
       "[5 rows x 342 columns]"
      ]
     },
     "execution_count": 20,
     "metadata": {},
     "output_type": "execute_result"
    }
   ],
   "source": [
    "#não agricultores com aposentadoria\n",
    "\n",
    "\n",
    "Nagri_apo = dados2014[(dados2014.V4747=='Não agrícula')&(dados2014.V9122=='Sim')]\n",
    "Nagri_apo.head()"
   ]
  },
  {
   "cell_type": "code",
   "execution_count": 21,
   "metadata": {
    "collapsed": false
   },
   "outputs": [
    {
     "name": "stderr",
     "output_type": "stream",
     "text": [
      "C:\\Users\\Bruna\\Anaconda3\\lib\\site-packages\\ipykernel\\__main__.py:1: UserWarning: Boolean Series key will be reindexed to match DataFrame index.\n",
      "  if __name__ == '__main__':\n"
     ]
    }
   ],
   "source": [
    "dadosCut2 = Nagri_apo[(dados2014.V1252!=999999999999)]"
   ]
  },
  {
   "cell_type": "code",
   "execution_count": 22,
   "metadata": {
    "collapsed": false
   },
   "outputs": [
    {
     "data": {
      "text/plain": [
       "count     5611.000000\n",
       "mean      1581.517911\n",
       "std       1832.260908\n",
       "min        650.000000\n",
       "25%        724.000000\n",
       "50%        850.000000\n",
       "75%       1800.000000\n",
       "max      29000.000000\n",
       "Name: V1252, dtype: float64"
      ]
     },
     "execution_count": 22,
     "metadata": {},
     "output_type": "execute_result"
    }
   ],
   "source": [
    "dadosCut2.V1252.describe()"
   ]
  },
  {
   "cell_type": "code",
   "execution_count": 23,
   "metadata": {
    "collapsed": false
   },
   "outputs": [],
   "source": [
    "faixa=arange(600,  6000, 100)\n",
    "a = pd.cut(dadosCut2.V1252, faixa).value_counts(True)*100\n"
   ]
  },
  {
   "cell_type": "code",
   "execution_count": 24,
   "metadata": {
    "collapsed": false
   },
   "outputs": [
    {
     "data": {
      "text/plain": [
       "<matplotlib.axes._subplots.AxesSubplot at 0x21733e87860>"
      ]
     },
     "execution_count": 24,
     "metadata": {},
     "output_type": "execute_result"
    },
    {
     "data": {
      "image/png": "[encoded data removed]",
      "text/plain": [
       "<matplotlib.figure.Figure at 0x21735f702e8>"
      ]
     },
     "metadata": {},
     "output_type": "display_data"
    }
   ],
   "source": [
    "dadosCut2.V1252.plot.hist(bins=faixa)"
   ]
  },
  {
   "cell_type": "code",
   "execution_count": 25,
   "metadata": {
    "collapsed": false
   },
   "outputs": [
    {
     "data": {
      "image/png": "[encoded data removed]",
      "text/plain": [
       "<matplotlib.figure.Figure at 0x21737e06c18>"
      ]
     },
     "metadata": {},
     "output_type": "display_data"
    }
   ],
   "source": [
    "x=pd.DataFrame([a,b], index=('Não agricultor', 'Agricultor'))\n",
    "x=x.T\n",
    "\n",
    "x.plot(kind='box', title='Aposentadoria', figsize=(12,8))\n",
    "\n",
    "axes = plt.gca()\n",
    "axes.set_ylim([0,6])\n",
    "plt.show()"
   ]
  },
  {
   "cell_type": "markdown",
   "metadata": {},
   "source": [
    " ### <font color='blue'>Conclusão da primeira análise</font>\n",
    "\n",
    "##### Assim percebemos que ambas as médias estão bem próximas. A moda em ambas é em torno de 700 a 800. Porém podemos notar que a frequência em que aparece nos agricultores é de aproximadamente 90%, enquanto nos não agricultores constituem metade das respostas. Assim podemos concluir que há uma desigualdade na distribuição de aposentadoria."
   ]
  },
  {
   "cell_type": "markdown",
   "metadata": {
    "collapsed": true
   },
   "source": [
    "-"
   ]
  },
  {
   "cell_type": "markdown",
   "metadata": {},
   "source": [
    " # <font color='blue'>Análise 2 - quantidade de aposentados depois dos 60</font>\n",
    "\n",
    "### Hoje a aposentadoria é bastante burocratica. Para pessoas com carteira de trabalho assinada este processo pode ser facilitado, porém para aqueles que trabalham na agricultura isto pode se complicar. Uma vez que a maioria destas pessoas nem possuem algum registo de trabalho, preciando entrar com processos demorados que nem sempre termina em aposentadoria.\n",
    "\n",
    "### Para tanto vamos analisar de que forma essas aposentadorias se distribuem para idosos acima de 60 anos entre os agricultores e os não agricultores."
   ]
  },
  {
   "cell_type": "code",
   "execution_count": 26,
   "metadata": {
    "collapsed": false
   },
   "outputs": [
    {
     "data": {
      "text/html": [
       "<div>\n",
       "<table border=\"1\" class=\"dataframe\">\n",
       "  <thead>\n",
       "    <tr style=\"text-align: right;\">\n",
       "      <th></th>\n",
       "      <th>Unnamed: 0</th>\n",
       "      <th>V0101</th>\n",
       "      <th>UF</th>\n",
       "      <th>V0102</th>\n",
       "      <th>V0103</th>\n",
       "      <th>V0301</th>\n",
       "      <th>V0302</th>\n",
       "      <th>V3031</th>\n",
       "      <th>V3032</th>\n",
       "      <th>V3033</th>\n",
       "      <th>...</th>\n",
       "      <th>V4741</th>\n",
       "      <th>V4742</th>\n",
       "      <th>V4743</th>\n",
       "      <th>V4745</th>\n",
       "      <th>V4746</th>\n",
       "      <th>V4747</th>\n",
       "      <th>V4748</th>\n",
       "      <th>V4749</th>\n",
       "      <th>V4750</th>\n",
       "      <th>V9993</th>\n",
       "    </tr>\n",
       "  </thead>\n",
       "  <tbody>\n",
       "    <tr>\n",
       "      <th>7</th>\n",
       "      <td>7</td>\n",
       "      <td>2014</td>\n",
       "      <td>11</td>\n",
       "      <td>15</td>\n",
       "      <td>4</td>\n",
       "      <td>2</td>\n",
       "      <td>2</td>\n",
       "      <td>7</td>\n",
       "      <td>3</td>\n",
       "      <td>1954</td>\n",
       "      <td>...</td>\n",
       "      <td>5.0</td>\n",
       "      <td>1700.0</td>\n",
       "      <td>5.0</td>\n",
       "      <td>1</td>\n",
       "      <td>1.0</td>\n",
       "      <td>Não agrícula</td>\n",
       "      <td>2.0</td>\n",
       "      <td>1.0</td>\n",
       "      <td>1700.0</td>\n",
       "      <td>20160623</td>\n",
       "    </tr>\n",
       "    <tr>\n",
       "      <th>15</th>\n",
       "      <td>15</td>\n",
       "      <td>2014</td>\n",
       "      <td>11</td>\n",
       "      <td>15</td>\n",
       "      <td>6</td>\n",
       "      <td>1</td>\n",
       "      <td>2</td>\n",
       "      <td>20</td>\n",
       "      <td>11</td>\n",
       "      <td>1953</td>\n",
       "      <td>...</td>\n",
       "      <td>2.0</td>\n",
       "      <td>850.0</td>\n",
       "      <td>4.0</td>\n",
       "      <td>2</td>\n",
       "      <td>1.0</td>\n",
       "      <td>Não agrícula</td>\n",
       "      <td>2.0</td>\n",
       "      <td>1.0</td>\n",
       "      <td>850.0</td>\n",
       "      <td>20160623</td>\n",
       "    </tr>\n",
       "    <tr>\n",
       "      <th>18</th>\n",
       "      <td>18</td>\n",
       "      <td>2014</td>\n",
       "      <td>11</td>\n",
       "      <td>15</td>\n",
       "      <td>7</td>\n",
       "      <td>2</td>\n",
       "      <td>2</td>\n",
       "      <td>22</td>\n",
       "      <td>3</td>\n",
       "      <td>1954</td>\n",
       "      <td>...</td>\n",
       "      <td>5.0</td>\n",
       "      <td>3220.0</td>\n",
       "      <td>6.0</td>\n",
       "      <td>7</td>\n",
       "      <td>1.0</td>\n",
       "      <td>Não agrícula</td>\n",
       "      <td>2.0</td>\n",
       "      <td>1.0</td>\n",
       "      <td>3220.0</td>\n",
       "      <td>20160623</td>\n",
       "    </tr>\n",
       "    <tr>\n",
       "      <th>25</th>\n",
       "      <td>25</td>\n",
       "      <td>2014</td>\n",
       "      <td>11</td>\n",
       "      <td>15</td>\n",
       "      <td>10</td>\n",
       "      <td>1</td>\n",
       "      <td>2</td>\n",
       "      <td>15</td>\n",
       "      <td>10</td>\n",
       "      <td>1948</td>\n",
       "      <td>...</td>\n",
       "      <td>2.0</td>\n",
       "      <td>2362.0</td>\n",
       "      <td>6.0</td>\n",
       "      <td>2</td>\n",
       "      <td>1.0</td>\n",
       "      <td>Agrícula</td>\n",
       "      <td>1.0</td>\n",
       "      <td>1.0</td>\n",
       "      <td>2362.0</td>\n",
       "      <td>20160623</td>\n",
       "    </tr>\n",
       "    <tr>\n",
       "      <th>66</th>\n",
       "      <td>66</td>\n",
       "      <td>2014</td>\n",
       "      <td>11</td>\n",
       "      <td>23</td>\n",
       "      <td>8</td>\n",
       "      <td>1</td>\n",
       "      <td>2</td>\n",
       "      <td>7</td>\n",
       "      <td>8</td>\n",
       "      <td>1949</td>\n",
       "      <td>...</td>\n",
       "      <td>2.0</td>\n",
       "      <td>2862.0</td>\n",
       "      <td>6.0</td>\n",
       "      <td>5</td>\n",
       "      <td>1.0</td>\n",
       "      <td>Agrícula</td>\n",
       "      <td>1.0</td>\n",
       "      <td>1.0</td>\n",
       "      <td>2862.0</td>\n",
       "      <td>20160623</td>\n",
       "    </tr>\n",
       "  </tbody>\n",
       "</table>\n",
       "<p>5 rows × 342 columns</p>\n",
       "</div>"
      ],
      "text/plain": [
       "    Unnamed: 0  V0101  UF  V0102  V0103  V0301  V0302  V3031  V3032  V3033  \\\n",
       "7            7   2014  11     15      4      2      2      7      3   1954   \n",
       "15          15   2014  11     15      6      1      2     20     11   1953   \n",
       "18          18   2014  11     15      7      2      2     22      3   1954   \n",
       "25          25   2014  11     15     10      1      2     15     10   1948   \n",
       "66          66   2014  11     23      8      1      2      7      8   1949   \n",
       "\n",
       "      ...     V4741   V4742  V4743  V4745  V4746         V4747  V4748  V4749  \\\n",
       "7     ...       5.0  1700.0    5.0      1    1.0  Não agrícula    2.0    1.0   \n",
       "15    ...       2.0   850.0    4.0      2    1.0  Não agrícula    2.0    1.0   \n",
       "18    ...       5.0  3220.0    6.0      7    1.0  Não agrícula    2.0    1.0   \n",
       "25    ...       2.0  2362.0    6.0      2    1.0      Agrícula    1.0    1.0   \n",
       "66    ...       2.0  2862.0    6.0      5    1.0      Agrícula    1.0    1.0   \n",
       "\n",
       "     V4750     V9993  \n",
       "7   1700.0  20160623  \n",
       "15   850.0  20160623  \n",
       "18  3220.0  20160623  \n",
       "25  2362.0  20160623  \n",
       "66  2862.0  20160623  \n",
       "\n",
       "[5 rows x 342 columns]"
      ]
     },
     "execution_count": 26,
     "metadata": {},
     "output_type": "execute_result"
    }
   ],
   "source": [
    "#adicionaremos a variável 'V8005' responsável por determinar a idade do entrevistado.\n",
    "#primeiro excluir todos aqueles que são menores de 60 anos.\n",
    "\n",
    "dadosCut3 = dados2014[(dados2014.V8005>=60)]\n",
    "dadosCut3.head()"
   ]
  },
  {
   "cell_type": "code",
   "execution_count": 27,
   "metadata": {
    "collapsed": false
   },
   "outputs": [
    {
     "name": "stdout",
     "output_type": "stream",
     "text": [
      "Tabela Cruzada por total GERAL: agricultura X aposentados, +60\n"
     ]
    },
    {
     "data": {
      "text/html": [
       "<div>\n",
       "<table border=\"1\" class=\"dataframe\">\n",
       "  <thead>\n",
       "    <tr style=\"text-align: right;\">\n",
       "      <th>Aposentados</th>\n",
       "      <th>Sim</th>\n",
       "      <th>Não</th>\n",
       "      <th>All</th>\n",
       "    </tr>\n",
       "    <tr>\n",
       "      <th>Agricultura</th>\n",
       "      <th></th>\n",
       "      <th></th>\n",
       "      <th></th>\n",
       "    </tr>\n",
       "  </thead>\n",
       "  <tbody>\n",
       "    <tr>\n",
       "      <th>Agrícula</th>\n",
       "      <td>3699</td>\n",
       "      <td>954</td>\n",
       "      <td>4653</td>\n",
       "    </tr>\n",
       "    <tr>\n",
       "      <th>Não agrícula</th>\n",
       "      <td>3871</td>\n",
       "      <td>5418</td>\n",
       "      <td>9289</td>\n",
       "    </tr>\n",
       "    <tr>\n",
       "      <th>All</th>\n",
       "      <td>7570</td>\n",
       "      <td>6372</td>\n",
       "      <td>13942</td>\n",
       "    </tr>\n",
       "  </tbody>\n",
       "</table>\n",
       "</div>"
      ],
      "text/plain": [
       "Aposentados    Sim   Não    All\n",
       "Agricultura                    \n",
       "Agrícula      3699   954   4653\n",
       "Não agrícula  3871  5418   9289\n",
       "All           7570  6372  13942"
      ]
     },
     "execution_count": 27,
     "metadata": {},
     "output_type": "execute_result"
    }
   ],
   "source": [
    "print('Tabela Cruzada por total GERAL: agricultura X aposentados, +60')\n",
    "ct4=pd.crosstab(dadosCut3.V4747,dadosCut3.V9122,margins=True, rownames=['Agricultura'], colnames=['Aposentados'])\n",
    "ct4"
   ]
  },
  {
   "cell_type": "code",
   "execution_count": 28,
   "metadata": {
    "collapsed": true
   },
   "outputs": [],
   "source": [
    "def percConvert(tab):\n",
    "  return (tab/float(tab[-1])*100).round(decimals=0)"
   ]
  },
  {
   "cell_type": "code",
   "execution_count": 29,
   "metadata": {
    "collapsed": false
   },
   "outputs": [
    {
     "name": "stdout",
     "output_type": "stream",
     "text": [
      "Tabela Cruzada por total de LINHAS (em %):\n"
     ]
    },
    {
     "data": {
      "text/html": [
       "<div>\n",
       "<table border=\"1\" class=\"dataframe\">\n",
       "  <thead>\n",
       "    <tr style=\"text-align: right;\">\n",
       "      <th>Agricultura</th>\n",
       "      <th>Agrícula</th>\n",
       "      <th>Não agrícula</th>\n",
       "      <th>All</th>\n",
       "    </tr>\n",
       "    <tr>\n",
       "      <th>Aposentados</th>\n",
       "      <th></th>\n",
       "      <th></th>\n",
       "      <th></th>\n",
       "    </tr>\n",
       "  </thead>\n",
       "  <tbody>\n",
       "    <tr>\n",
       "      <th>Sim</th>\n",
       "      <td>49.0</td>\n",
       "      <td>51.0</td>\n",
       "      <td>100.0</td>\n",
       "    </tr>\n",
       "    <tr>\n",
       "      <th>Não</th>\n",
       "      <td>15.0</td>\n",
       "      <td>85.0</td>\n",
       "      <td>100.0</td>\n",
       "    </tr>\n",
       "    <tr>\n",
       "      <th>All</th>\n",
       "      <td>33.0</td>\n",
       "      <td>67.0</td>\n",
       "      <td>100.0</td>\n",
       "    </tr>\n",
       "  </tbody>\n",
       "</table>\n",
       "</div>"
      ],
      "text/plain": [
       "Agricultura  Agrícula  Não agrícula    All\n",
       "Aposentados                               \n",
       "Sim              49.0          51.0  100.0\n",
       "Não              15.0          85.0  100.0\n",
       "All              33.0          67.0  100.0"
      ]
     },
     "execution_count": 29,
     "metadata": {},
     "output_type": "execute_result"
    }
   ],
   "source": [
    "print('Tabela Cruzada por total de LINHAS (em %):')\n",
    "ct5=pd.crosstab(dadosCut3.V9122,dadosCut3.V4747,rownames=['Aposentados'], margins=True, colnames=['Agricultura']).apply(percConvert, axis=1)\n",
    "ct5"
   ]
  },
  {
   "cell_type": "code",
   "execution_count": 30,
   "metadata": {
    "collapsed": false
   },
   "outputs": [
    {
     "data": {
      "text/plain": [
       "<matplotlib.text.Text at 0x21738159b70>"
      ]
     },
     "execution_count": 30,
     "metadata": {},
     "output_type": "execute_result"
    },
    {
     "data": {
      "image/png": "[encoded data removed]",
      "text/plain": [
       "<matplotlib.figure.Figure at 0x21735ffda58>"
      ]
     },
     "metadata": {},
     "output_type": "display_data"
    }
   ],
   "source": [
    "ct5 = ct5.iloc[0:5,]\n",
    "plot = ct5.plot(kind='bar',title='Agricultura', color =('Moccasin', 'MediumAquamarine', 'Salmon'))\n",
    "plt.ylabel('Freq.Relativa (em%)')"
   ]
  },
  {
   "cell_type": "markdown",
   "metadata": {},
   "source": [
    " ### <font color='blue'>Conclusão da primeira análise</font>\n",
    "\n",
    "#### Conseguimos notar que os idosos (acima de 60 anos)aposentados e economicamente ativos estão distribuidos igualmente entre os agricultores e não agricultores. Apesar de os agricultores serem minoria no total mesmos assim eles conseguem se aposentar em boa quantidade."
   ]
  },
  {
   "cell_type": "markdown",
   "metadata": {},
   "source": [
    " # <font color='blue'>Análise 3 - valores da renda de família</font>\n",
    " \n",
    "#### Como vemos, a aposentadoria dos não agricultores são maiores comparado com aqueles que são agricultores. Mas como será o comportamento das rendas familiares dessa população?"
   ]
  },
  {
   "cell_type": "code",
   "execution_count": 31,
   "metadata": {
    "collapsed": false
   },
   "outputs": [
    {
     "data": {
      "text/plain": [
       "count      7113.000000\n",
       "mean       1939.726698\n",
       "std        4889.525146\n",
       "min          80.000000\n",
       "25%         724.000000\n",
       "50%        1074.000000\n",
       "75%        1808.000000\n",
       "max      331200.000000\n",
       "Name: V4750, dtype: float64"
      ]
     },
     "execution_count": 31,
     "metadata": {},
     "output_type": "execute_result"
    }
   ],
   "source": [
    "#Filtrando para apenas salários respondidos e para apposentados\n",
    "\n",
    "dadosCut4=dadosCut3[(dadosCut3.V4750!=999999999999) & (~dadosCut3.V9122.isnull()) & (dadosCut3.V9122=='Sim')]\n",
    "dadosCut4.V4750.describe()\n",
    "\n"
   ]
  },
  {
   "cell_type": "code",
   "execution_count": 32,
   "metadata": {
    "collapsed": false
   },
   "outputs": [
    {
     "data": {
      "text/plain": [
       "(680, 780]      15.077139\n",
       "(780, 880]       6.760168\n",
       "(480, 580]       6.185133\n",
       "(1080, 1180]     5.638149\n",
       "(880, 980]       5.511921\n",
       "(1380, 1480]     5.119215\n",
       "(980, 1080]      4.137447\n",
       "(580, 680]       4.123422\n",
       "(1180, 1280]     3.955119\n",
       "(380, 480]       3.646564\n",
       "(280, 380]       3.183731\n",
       "(1280, 1380]     2.931276\n",
       "(1680, 1780]     2.412342\n",
       "(1480, 1580]     2.159888\n",
       "(1580, 1680]     1.809257\n",
       "(1780, 1880]     1.612903\n",
       "(180, 280]       1.542777\n",
       "(1880, 1980]     1.388499\n",
       "(2080, 2180]     1.304348\n",
       "(1980, 2080]     1.276297\n",
       "(2180, 2280]     1.136045\n",
       "(2680, 2780]     0.827489\n",
       "(2380, 2480]     0.757363\n",
       "(2780, 2880]     0.701262\n",
       "(2480, 2580]     0.645161\n",
       "(2280, 2380]     0.603086\n",
       "(3180, 3280]     0.589060\n",
       "(2580, 2680]     0.575035\n",
       "(2980, 3080]     0.561010\n",
       "(2880, 2980]     0.532959\n",
       "                  ...    \n",
       "(7080, 7180]     0.112202\n",
       "(4880, 4980]     0.112202\n",
       "(6680, 6780]     0.098177\n",
       "(8580, 8680]     0.098177\n",
       "(5380, 5480]     0.098177\n",
       "(7280, 7380]     0.098177\n",
       "(8980, 9080]     0.084151\n",
       "(9380, 9480]     0.084151\n",
       "(7480, 7580]     0.084151\n",
       "(6280, 6380]     0.084151\n",
       "(8280, 8380]     0.070126\n",
       "(5080, 5180]     0.070126\n",
       "(6880, 6980]     0.070126\n",
       "(7780, 7880]     0.070126\n",
       "(8180, 8280]     0.070126\n",
       "(8480, 8580]     0.056101\n",
       "(6780, 6880]     0.056101\n",
       "(7580, 7680]     0.056101\n",
       "(9180, 9280]     0.056101\n",
       "(7380, 7480]     0.042076\n",
       "(7880, 7980]     0.042076\n",
       "(9680, 9780]     0.042076\n",
       "(9880, 9980]     0.042076\n",
       "(8380, 8480]     0.028050\n",
       "(9080, 9180]     0.028050\n",
       "(9480, 9580]     0.028050\n",
       "(9580, 9680]     0.028050\n",
       "(8880, 8980]     0.014025\n",
       "(9280, 9380]     0.014025\n",
       "(9780, 9880]     0.000000\n",
       "dtype: float64"
      ]
     },
     "execution_count": 32,
     "metadata": {},
     "output_type": "execute_result"
    }
   ],
   "source": [
    "faixa=arange(80, 10000, 100)\n",
    "c = pd.cut(dadosCut4.V4750, faixa).value_counts(True)*100\n",
    "c"
   ]
  },
  {
   "cell_type": "code",
   "execution_count": 33,
   "metadata": {
    "collapsed": false
   },
   "outputs": [
    {
     "data": {
      "image/png": "[encoded data removed]",
      "text/plain": [
       "<matplotlib.figure.Figure at 0x21735f97470>"
      ]
     },
     "metadata": {},
     "output_type": "display_data"
    }
   ],
   "source": [
    "dadosCut4.V4750.plot.hist(bins=faixa, title='Renda familiar')\n",
    "plt.show()"
   ]
  },
  {
   "cell_type": "code",
   "execution_count": 34,
   "metadata": {
    "collapsed": false
   },
   "outputs": [
    {
     "data": {
      "text/plain": [
       "count     6012.000000\n",
       "mean      1636.263473\n",
       "std       2675.095844\n",
       "min          0.000000\n",
       "25%        574.000000\n",
       "50%        907.500000\n",
       "75%       1600.000000\n",
       "max      76500.000000\n",
       "Name: V4750, dtype: float64"
      ]
     },
     "execution_count": 34,
     "metadata": {},
     "output_type": "execute_result"
    }
   ],
   "source": [
    "dadosCut5=dadosCut3[(dadosCut3.V4750!=999999999999) & (~dadosCut3.V9122.isnull()) & (dadosCut3.V9122=='Não')]\n",
    "dadosCut5.V4750.describe()"
   ]
  },
  {
   "cell_type": "code",
   "execution_count": 35,
   "metadata": {
    "collapsed": false
   },
   "outputs": [],
   "source": [
    "faixa=arange(80, 10000, 100)\n",
    "d = pd.cut(dadosCut5.V4750, faixa).value_counts(True)*100\n"
   ]
  },
  {
   "cell_type": "code",
   "execution_count": 36,
   "metadata": {
    "collapsed": false
   },
   "outputs": [
    {
     "data": {
      "image/png": "[encoded data removed]",
      "text/plain": [
       "<matplotlib.figure.Figure at 0x21737f58278>"
      ]
     },
     "metadata": {},
     "output_type": "display_data"
    }
   ],
   "source": [
    "dadosCut5.V4750.plot.hist(bins=faixa, title='Renda familiar')\n",
    "plt.show()"
   ]
  },
  {
   "cell_type": "markdown",
   "metadata": {},
   "source": [
    "Abaixo está os dois gráficos juntos para análise"
   ]
  },
  {
   "cell_type": "code",
   "execution_count": 37,
   "metadata": {
    "collapsed": false
   },
   "outputs": [
    {
     "data": {
      "image/png": "[encoded data removed]",
      "text/plain": [
       "<matplotlib.figure.Figure at 0x21733b34940>"
      ]
     },
     "metadata": {},
     "output_type": "display_data"
    }
   ],
   "source": [
    "plot=dadosCut4.V4750.plot.hist(bins=faixa, color='coral', figsize=(12,8), alpha=0.5)\n",
    "plot=dadosCut5.V4750.plot.hist(bins=faixa, color='turquoise', figsize=(12,8), alpha=0.5)\n"
   ]
  },
  {
   "cell_type": "markdown",
   "metadata": {},
   "source": [
    "Podemos notar que a renda das famílias agricultoras é menor do que aquelas não agricultoras. Mostrando a desilgualdade entre essas população."
   ]
  },
  {
   "cell_type": "markdown",
   "metadata": {},
   "source": [
    "## <font color='blue'>Análise 4 - Questão de sexos na aposentadoria</font>\n",
    "\n",
    "como essa situação se mostra com distinção de sexos. Podemos ver se há uma desilgualdades entre as mulheres do campo e os homens. Se elas estão conseguindo se aposentar ou não. "
   ]
  },
  {
   "cell_type": "code",
   "execution_count": 38,
   "metadata": {
    "collapsed": false
   },
   "outputs": [
    {
     "name": "stderr",
     "output_type": "stream",
     "text": [
      "C:\\Users\\Bruna\\Anaconda3\\lib\\site-packages\\ipykernel\\__main__.py:1: UserWarning: Boolean Series key will be reindexed to match DataFrame index.\n",
      "  if __name__ == '__main__':\n"
     ]
    }
   ],
   "source": [
    "dadosCut6 = dados2014[(~dados.V0302.isnull())]\n"
   ]
  },
  {
   "cell_type": "code",
   "execution_count": 39,
   "metadata": {
    "collapsed": false
   },
   "outputs": [
    {
     "name": "stdout",
     "output_type": "stream",
     "text": [
      "Frequências relativas por :\n",
      "Masculino    57.0\n",
      "Feminino     43.0\n",
      "dtype: float64\n"
     ]
    }
   ],
   "source": [
    "n=dadosCut6.shape[0]\n",
    "dadosCut6.V0302 = dadosCut6.V0302.astype('category')\n",
    "\n",
    "dadosCut6.V0302.cat.categories = ('Masculino','Feminino')\n",
    "\n",
    "dadosCut6.V0302.head()\n",
    "\n",
    "print('Frequências relativas por :')\n",
    "ut7 = (dadosCut6.V0302.value_counts()/n*100).round(decimals=1).reindex(['Masculino','Feminino'])\n",
    "print(ut7)"
   ]
  },
  {
   "cell_type": "code",
   "execution_count": 40,
   "metadata": {
    "collapsed": false
   },
   "outputs": [
    {
     "data": {
      "image/png": "[encoded data removed]",
      "text/plain": [
       "<matplotlib.figure.Figure at 0x2173cad2a20>"
      ]
     },
     "metadata": {},
     "output_type": "display_data"
    }
   ],
   "source": [
    "explode=(0.05,0)\n",
    "\n",
    "ut7.plot(kind='pie', colors=('MediumAquamarine', 'Salmon'), shadow = True, explode=explode,\n",
    "                 autopct=\"%0.1f\",legend=False, subplots=True, figsize=(8,8))\n",
    "plt.show()"
   ]
  },
  {
   "cell_type": "markdown",
   "metadata": {},
   "source": [
    "Assim, percebemos que temos uma população ligeiramente maior de homens entre os entrevistados. Mas como será esta comparação entre os oposentados agricultores?"
   ]
  },
  {
   "cell_type": "code",
   "execution_count": 41,
   "metadata": {
    "collapsed": false
   },
   "outputs": [],
   "source": [
    "dadosCut7 = dadosCut[(dadosCut.V0302 == 4)] #mulheres\n",
    "dadosCut8 = dadosCut[(dadosCut.V0302 == 2)] #homens"
   ]
  },
  {
   "cell_type": "code",
   "execution_count": 42,
   "metadata": {
    "collapsed": false
   },
   "outputs": [
    {
     "data": {
      "image/png": "[encoded data removed]",
      "text/plain": [
       "<matplotlib.figure.Figure at 0x2173cd58da0>"
      ]
     },
     "metadata": {},
     "output_type": "display_data"
    }
   ],
   "source": [
    "plot=dadosCut8.V4750.plot.hist(bins=faixa, color='turquoise', figsize=(12,8), alpha=0.5)\n",
    "plot=dadosCut7.V4750.plot.hist(bins=faixa, color='coral', figsize=(12,8), alpha=0.5)"
   ]
  },
  {
   "cell_type": "markdown",
   "metadata": {},
   "source": [
    "Assim, concluimos que tantos as mulheres como os homens possuem uma aposentadoria semelhante em termos de valores. Também podemos tirar desse gráfico que há mais homens entres os agricolas do que mulheres."
   ]
  },
  {
   "cell_type": "markdown",
   "metadata": {},
   "source": [
    "Já no caso dos não agricultores temo a seguinte configuração:"
   ]
  },
  {
   "cell_type": "code",
   "execution_count": 43,
   "metadata": {
    "collapsed": true
   },
   "outputs": [],
   "source": [
    "dadosCut9 = dadosCut2[(dadosCut2.V0302 == 4)] #mulheres\n",
    "dadosCut10 = dadosCut2[(dadosCut2.V0302 == 2)] #homens"
   ]
  },
  {
   "cell_type": "code",
   "execution_count": 44,
   "metadata": {
    "collapsed": false
   },
   "outputs": [
    {
     "data": {
      "image/png": "[encoded data removed]",
      "text/plain": [
       "<matplotlib.figure.Figure at 0x2173d8255c0>"
      ]
     },
     "metadata": {},
     "output_type": "display_data"
    }
   ],
   "source": [
    "plot=dadosCut10.V4750.plot.hist(bins=faixa, color='coral', figsize=(12,8), alpha=0.5)\n",
    "plot=dadosCut9.V4750.plot.hist(bins=faixa, color='turquoise', figsize=(12,8), alpha=0.5)"
   ]
  },
  {
   "cell_type": "markdown",
   "metadata": {},
   "source": [
    "Neste histograma também podemos ver o equilíbrio entre as aposentadorias recebidas dos dois sexos. Também conseguimos notar que há uma predominância de mulheres na região não agrícola."
   ]
  },
  {
   "cell_type": "markdown",
   "metadata": {},
   "source": [
    "Sendo assim, se compararmos ambos os sexos das duas regiões iremos notar que a configuração será semelhante aquela encontrada quando comparada sem distinção de sexo. Abaixo vemos como seria se comparassemos as mulheres das duas regiôes e suas rendas."
   ]
  },
  {
   "cell_type": "code",
   "execution_count": 45,
   "metadata": {
    "collapsed": false
   },
   "outputs": [
    {
     "data": {
      "image/png": "[encoded data removed]",
      "text/plain": [
       "<matplotlib.figure.Figure at 0x21737f98748>"
      ]
     },
     "metadata": {},
     "output_type": "display_data"
    }
   ],
   "source": [
    "plot=dadosCut9.V4750.plot.hist(bins=faixa, color='darkviolet', figsize=(12,8), alpha=0.5)\n",
    "plot=dadosCut7.V4750.plot.hist(bins=faixa, color='crimson', figsize=(12,8), alpha=0.5)"
   ]
  },
  {
   "cell_type": "markdown",
   "metadata": {},
   "source": [
    "## <font color='blue'>Análise 4 - distribuição dos aposentados agrícolas por região<font>\n",
    "\n",
    "#### Nesta análise iremos ver como as rendas dos aposentados agrícolas estão distribuidos pelas regiões brasileiras."
   ]
  },
  {
   "cell_type": "code",
   "execution_count": 46,
   "metadata": {
    "collapsed": false
   },
   "outputs": [
    {
     "name": "stderr",
     "output_type": "stream",
     "text": [
      "C:\\Users\\Bruna\\Anaconda3\\lib\\site-packages\\ipykernel\\__main__.py:1: SettingWithCopyWarning: \n",
      "A value is trying to be set on a copy of a slice from a DataFrame.\n",
      "Try using .loc[row_indexer,col_indexer] = value instead\n",
      "\n",
      "See the caveats in the documentation: http://pandas.pydata.org/pandas-docs/stable/indexing.html#indexing-view-versus-copy\n",
      "  if __name__ == '__main__':\n",
      "C:\\Users\\Bruna\\Anaconda3\\lib\\site-packages\\ipykernel\\__main__.py:2: SettingWithCopyWarning: \n",
      "A value is trying to be set on a copy of a slice from a DataFrame\n",
      "\n",
      "See the caveats in the documentation: http://pandas.pydata.org/pandas-docs/stable/indexing.html#indexing-view-versus-copy\n",
      "  from ipykernel import kernelapp as app\n",
      "C:\\Users\\Bruna\\Anaconda3\\lib\\site-packages\\pandas\\core\\generic.py:4428: SettingWithCopyWarning: \n",
      "A value is trying to be set on a copy of a slice from a DataFrame\n",
      "\n",
      "See the caveats in the documentation: http://pandas.pydata.org/pandas-docs/stable/indexing.html#indexing-view-versus-copy\n",
      "  self._update_inplace(new_data)\n",
      "C:\\Users\\Bruna\\Anaconda3\\lib\\site-packages\\IPython\\core\\interactiveshell.py:2885: SettingWithCopyWarning: \n",
      "A value is trying to be set on a copy of a slice from a DataFrame\n",
      "\n",
      "See the caveats in the documentation: http://pandas.pydata.org/pandas-docs/stable/indexing.html#indexing-view-versus-copy\n",
      "  exec(code_obj, self.user_global_ns, self.user_ns)\n",
      "C:\\Users\\Bruna\\Anaconda3\\lib\\site-packages\\ipykernel\\__main__.py:3: SettingWithCopyWarning: \n",
      "A value is trying to be set on a copy of a slice from a DataFrame\n",
      "\n",
      "See the caveats in the documentation: http://pandas.pydata.org/pandas-docs/stable/indexing.html#indexing-view-versus-copy\n",
      "  app.launch_new_instance()\n",
      "C:\\Users\\Bruna\\Anaconda3\\lib\\site-packages\\ipykernel\\__main__.py:4: SettingWithCopyWarning: \n",
      "A value is trying to be set on a copy of a slice from a DataFrame\n",
      "\n",
      "See the caveats in the documentation: http://pandas.pydata.org/pandas-docs/stable/indexing.html#indexing-view-versus-copy\n",
      "C:\\Users\\Bruna\\Anaconda3\\lib\\site-packages\\ipykernel\\__main__.py:5: SettingWithCopyWarning: \n",
      "A value is trying to be set on a copy of a slice from a DataFrame\n",
      "\n",
      "See the caveats in the documentation: http://pandas.pydata.org/pandas-docs/stable/indexing.html#indexing-view-versus-copy\n",
      "C:\\Users\\Bruna\\Anaconda3\\lib\\site-packages\\ipykernel\\__main__.py:6: SettingWithCopyWarning: \n",
      "A value is trying to be set on a copy of a slice from a DataFrame\n",
      "\n",
      "See the caveats in the documentation: http://pandas.pydata.org/pandas-docs/stable/indexing.html#indexing-view-versus-copy\n"
     ]
    }
   ],
   "source": [
    "dadosCut['Reg']=dadosCut.UF\n",
    "dadosCut.Reg[(dadosCut.UF>10)&(dadosCut.UF<=17)]=1\n",
    "dadosCut.Reg[(dadosCut.UF>20)&(dadosCut.UF<=29)]=2\n",
    "dadosCut.Reg[(dadosCut.UF>30)&(dadosCut.UF<=35)]=3\n",
    "dadosCut.Reg[(dadosCut.UF>40)&(dadosCut.UF<=43)]=4\n",
    "dadosCut.Reg[(dadosCut.UF>=50)&(dadosCut.UF<=53)]=5"
   ]
  },
  {
   "cell_type": "code",
   "execution_count": 47,
   "metadata": {
    "collapsed": false
   },
   "outputs": [
    {
     "data": {
      "image/png": "[encoded data removed]",
      "text/plain": [
       "<matplotlib.figure.Figure at 0x21737ede828>"
      ]
     },
     "metadata": {},
     "output_type": "display_data"
    }
   ],
   "source": [
    "a = pd.DataFrame([dadosCut.V1252[dadosCut.Reg==1],dadosCut.V1252[dadosCut.Reg==2],\n",
    "                  dadosCut.V1252[dadosCut.Reg==3], dadosCut.V1252[dadosCut.Reg==4],\n",
    "                  dadosCut.V1252[dadosCut.Reg==5]],index=('Norte', 'Nordeste', 'Sudeste', 'Sul', 'Centro-Oeste'))\n",
    "a=a.T\n",
    "a.plot(kind='box', title='Aposentadoria por regiões', figsize=(12,8))\n",
    "\n",
    "axes = plt.gca()\n",
    "axes.set_ylim([0,2000])\n",
    "plt.show()"
   ]
  },
  {
   "cell_type": "markdown",
   "metadata": {},
   "source": [
    "Conseguimos notar que a distribuição de aposentadoria é bastante semelhantes em todas as regiões."
   ]
  },
  {
   "cell_type": "markdown",
   "metadata": {},
   "source": [
    "Análise 8 - como a aposentadoria se distribui por idade em cada região"
   ]
  },
  {
   "cell_type": "code",
   "execution_count": 100,
   "metadata": {
    "collapsed": false
   },
   "outputs": [
    {
     "data": {
      "image/png": "[encoded data removed]",
      "text/plain": [
       "<matplotlib.figure.Figure at 0x2173cad1048>"
      ]
     },
     "metadata": {},
     "output_type": "display_data"
    }
   ],
   "source": [
    "plt.plot(dadosCut.V4750[dadosCut.Reg==1],dadosCut.V1252[dadosCut.Reg==1], 'o')\n",
    "plt.plot(dadosCut.V4750[dadosCut.Reg==2],dadosCut.V1252[dadosCut.Reg==2], 'o')\n",
    "plt.plot(dadosCut.V4750[dadosCut.Reg==3],dadosCut.V1252[dadosCut.Reg==3], 'o')\n",
    "plt.plot(dadosCut.V4750[dadosCut.Reg==4],dadosCut.V1252[dadosCut.Reg==4], 'o')\n",
    "plt.plot(dadosCut.V4750[dadosCut.Reg==5],dadosCut.V1252[dadosCut.Reg==5], 'o')\n",
    "\n",
    "\n",
    "plt.xlabel('Renda Familiar')\n",
    "plt.ylabel('Aposentadoria')\n",
    "plt.title('Distribuição de renda e aposentadoria')\n",
    "axes = plt.gca()\n",
    "axes.set_xlim(0,8000)\n",
    "plt.show()"
   ]
  },
  {
   "cell_type": "markdown",
   "metadata": {},
   "source": [
    "Conclusão da Análise 6\n",
    "podemos concluir que a maioria da renda familiar desses posentados não vem diretamente da aposentadoria."
   ]
  },
  {
   "cell_type": "markdown",
   "metadata": {},
   "source": [
    "## <font color='blue'>Análise 5 - Distibuição de aposentadoria para agricultores por raça</font>"
   ]
  },
  {
   "cell_type": "code",
   "execution_count": 49,
   "metadata": {
    "collapsed": false
   },
   "outputs": [
    {
     "data": {
      "text/plain": [
       "25        Preta\n",
       "66        Preta\n",
       "183    Indígena\n",
       "372    Indígena\n",
       "373       Preta\n",
       "Name: V0404, dtype: category\n",
       "Categories (5, object): [Branca, Preta, Amarela, Parda, Indígena]"
      ]
     },
     "execution_count": 49,
     "metadata": {},
     "output_type": "execute_result"
    }
   ],
   "source": [
    "dadosCut11 = dadosCut[(dadosCut.V0404!=9)]\n",
    "\n",
    "dadosCut11.V0404 = dadosCut.V0404.astype('category')\n",
    "\n",
    "dadosCut11.V0404.cat.categories = ('Branca','Preta', 'Amarela', 'Parda', 'Indígena')\n",
    "\n",
    "dadosCut11.V0404.head()"
   ]
  },
  {
   "cell_type": "code",
   "execution_count": 50,
   "metadata": {
    "collapsed": false
   },
   "outputs": [],
   "source": [
    "dadosCutB = dadosCut11[(dadosCut11.V0404==\"Branca\")]"
   ]
  },
  {
   "cell_type": "code",
   "execution_count": 51,
   "metadata": {
    "collapsed": false
   },
   "outputs": [],
   "source": [
    "faixa=arange(600,  5000, 100)\n",
    "branca = pd.cut(dadosCutB.V1252, faixa).value_counts(True)*100"
   ]
  },
  {
   "cell_type": "code",
   "execution_count": 52,
   "metadata": {
    "collapsed": true
   },
   "outputs": [],
   "source": [
    "dadosCutPr = dadosCut11[(dadosCut11.V0404==\"Preta\")]"
   ]
  },
  {
   "cell_type": "code",
   "execution_count": 53,
   "metadata": {
    "collapsed": false
   },
   "outputs": [],
   "source": [
    "faixa=arange(600,  5000, 100)\n",
    "preta = pd.cut(dadosCutPr.V1252, faixa).value_counts(True)*100"
   ]
  },
  {
   "cell_type": "code",
   "execution_count": 54,
   "metadata": {
    "collapsed": true
   },
   "outputs": [],
   "source": [
    "dadosCutA = dadosCut11[(dadosCut11.V0404==\"Amarela\")]"
   ]
  },
  {
   "cell_type": "code",
   "execution_count": 55,
   "metadata": {
    "collapsed": false
   },
   "outputs": [],
   "source": [
    "faixa=arange(600,  5000, 100)\n",
    "amarela = pd.cut(dadosCutA.V1252, faixa).value_counts(True)*100\n"
   ]
  },
  {
   "cell_type": "code",
   "execution_count": 56,
   "metadata": {
    "collapsed": true
   },
   "outputs": [],
   "source": [
    "dadosCutPa = dadosCut11[(dadosCut11.V0404==\"Parda\")]"
   ]
  },
  {
   "cell_type": "code",
   "execution_count": 57,
   "metadata": {
    "collapsed": false
   },
   "outputs": [],
   "source": [
    "faixa=arange(600,  5000, 100)\n",
    "parda = pd.cut(dadosCutPa.V1252, faixa).value_counts(True)*100\n"
   ]
  },
  {
   "cell_type": "code",
   "execution_count": 58,
   "metadata": {
    "collapsed": true
   },
   "outputs": [],
   "source": [
    "dadosCutI = dadosCut11[(dadosCut11.V0404==\"Indígena\")]"
   ]
  },
  {
   "cell_type": "code",
   "execution_count": 59,
   "metadata": {
    "collapsed": false
   },
   "outputs": [],
   "source": [
    "faixa=arange(600,  5000, 100)\n",
    "indigena = pd.cut(dadosCutI.V1252, faixa).value_counts(True)*100\n"
   ]
  },
  {
   "cell_type": "code",
   "execution_count": 60,
   "metadata": {
    "collapsed": false,
    "scrolled": true
   },
   "outputs": [
    {
     "data": {
      "image/png": "[encoded data removed]",
      "text/plain": [
       "<matplotlib.figure.Figure at 0x2173da64dd8>"
      ]
     },
     "metadata": {},
     "output_type": "display_data"
    }
   ],
   "source": [
    "plot=dadosCutB.V1252.plot.hist(bins=faixa, color='moccasin', figsize=(12,8), alpha=0.5)\n",
    "plot=dadosCutPr.V1252.plot.hist(bins=faixa, color='dimgrey', figsize=(12,8), alpha=0.5)\n",
    "plot=dadosCutA.V1252.plot.hist(bins=faixa, color='yellow', figsize=(12,8), alpha=0.5)\n",
    "plot=dadosCutPa.V1252.plot.hist(bins=faixa, color='chocolate', figsize=(12,8), alpha=0.5)\n",
    "plot=dadosCutI.V1252.plot.hist(bins=faixa, color='orangered', figsize=(12,8), alpha=0.5)"
   ]
  },
  {
   "cell_type": "markdown",
   "metadata": {},
   "source": [
    "Aproximando este gráfico temos o seguinte:"
   ]
  },
  {
   "cell_type": "code",
   "execution_count": 61,
   "metadata": {
    "collapsed": false
   },
   "outputs": [
    {
     "data": {
      "image/png": "[encoded data removed]",
      "text/plain": [
       "<matplotlib.figure.Figure at 0x217380585c0>"
      ]
     },
     "metadata": {},
     "output_type": "display_data"
    }
   ],
   "source": [
    "plot=dadosCutB.V1252.plot.hist(bins=faixa, color='moccasin', figsize=(12,8), alpha=0.5)\n",
    "plot=dadosCutPr.V1252.plot.hist(bins=faixa, color='dimgrey', figsize=(12,8), alpha=0.5)\n",
    "plot=dadosCutA.V1252.plot.hist(bins=faixa, color='yellow', figsize=(12,8), alpha=0.5)\n",
    "plot=dadosCutPa.V1252.plot.hist(bins=faixa, color='chocolate', figsize=(12,8), alpha=0.5)\n",
    "plot=dadosCutI.V1252.plot.hist(bins=faixa, color='orangered', figsize=(12,8), alpha=0.5)\n",
    "\n",
    "axes = plt.gca()\n",
    "axes.set_ylim([0,40])\n",
    "plt.show()"
   ]
  },
  {
   "cell_type": "markdown",
   "metadata": {},
   "source": [
    "Conseguimos notar que a distribuição entre raças está bastante equilibrada."
   ]
  },
  {
   "cell_type": "code",
   "execution_count": 62,
   "metadata": {
    "collapsed": true
   },
   "outputs": [],
   "source": [
    "a=pd.DataFrame([dadosCutB.V1252,dadosCutPr.V1252,dadosCutA.V1252,dadosCutPa.V1252,dadosCutI.V1252])"
   ]
  },
  {
   "cell_type": "markdown",
   "metadata": {},
   "source": [
    "## <font color='blue'>Análise 6 - Comparação entre os aposentados agricultores de 2014 e 2001</font>\n",
    "\n",
    "A comparação feita é para ver como ocorreu o processo de apoentadoria para a população rural. Se no passado havia mais agricultores aposentados ou hoje esse percentual é maior ou ainda se ele se manteve consante no tempo."
   ]
  },
  {
   "cell_type": "code",
   "execution_count": 63,
   "metadata": {
    "collapsed": false
   },
   "outputs": [],
   "source": [
    "dados2001 = pd.read_csv('PES2001.csv', sep=',')"
   ]
  },
  {
   "cell_type": "code",
   "execution_count": 64,
   "metadata": {
    "collapsed": false
   },
   "outputs": [
    {
     "data": {
      "text/html": [
       "<div>\n",
       "<table border=\"1\" class=\"dataframe\">\n",
       "  <thead>\n",
       "    <tr style=\"text-align: right;\">\n",
       "      <th></th>\n",
       "      <th>v0101</th>\n",
       "      <th>uf</th>\n",
       "      <th>v0102</th>\n",
       "      <th>v0103</th>\n",
       "      <th>v0301</th>\n",
       "      <th>v0302</th>\n",
       "      <th>v3031</th>\n",
       "      <th>v3032</th>\n",
       "      <th>v3033</th>\n",
       "      <th>v8005</th>\n",
       "      <th>...</th>\n",
       "      <th>v2201</th>\n",
       "      <th>v2202</th>\n",
       "      <th>v1623</th>\n",
       "      <th>v1624</th>\n",
       "      <th>v1625</th>\n",
       "      <th>v1626</th>\n",
       "      <th>v1627</th>\n",
       "      <th>v1628</th>\n",
       "      <th>v1629</th>\n",
       "      <th>v1630</th>\n",
       "    </tr>\n",
       "  </thead>\n",
       "  <tbody>\n",
       "    <tr>\n",
       "      <th>0</th>\n",
       "      <td>2001</td>\n",
       "      <td>11</td>\n",
       "      <td>11000000.0</td>\n",
       "      <td>1</td>\n",
       "      <td>4.0</td>\n",
       "      <td>4.0</td>\n",
       "      <td>18.0</td>\n",
       "      <td>7.0</td>\n",
       "      <td>1978.0</td>\n",
       "      <td>23.0</td>\n",
       "      <td>...</td>\n",
       "      <td>NaN</td>\n",
       "      <td>NaN</td>\n",
       "      <td>NaN</td>\n",
       "      <td>NaN</td>\n",
       "      <td>NaN</td>\n",
       "      <td>NaN</td>\n",
       "      <td>NaN</td>\n",
       "      <td>NaN</td>\n",
       "      <td>NaN</td>\n",
       "      <td>NaN</td>\n",
       "    </tr>\n",
       "    <tr>\n",
       "      <th>1</th>\n",
       "      <td>2001</td>\n",
       "      <td>11</td>\n",
       "      <td>11000000.0</td>\n",
       "      <td>1</td>\n",
       "      <td>3.0</td>\n",
       "      <td>2.0</td>\n",
       "      <td>3.0</td>\n",
       "      <td>5.0</td>\n",
       "      <td>1977.0</td>\n",
       "      <td>24.0</td>\n",
       "      <td>...</td>\n",
       "      <td>NaN</td>\n",
       "      <td>NaN</td>\n",
       "      <td>NaN</td>\n",
       "      <td>NaN</td>\n",
       "      <td>NaN</td>\n",
       "      <td>NaN</td>\n",
       "      <td>NaN</td>\n",
       "      <td>NaN</td>\n",
       "      <td>NaN</td>\n",
       "      <td>NaN</td>\n",
       "    </tr>\n",
       "    <tr>\n",
       "      <th>2</th>\n",
       "      <td>2001</td>\n",
       "      <td>11</td>\n",
       "      <td>11000000.0</td>\n",
       "      <td>1</td>\n",
       "      <td>5.0</td>\n",
       "      <td>4.0</td>\n",
       "      <td>19.0</td>\n",
       "      <td>7.0</td>\n",
       "      <td>1998.0</td>\n",
       "      <td>3.0</td>\n",
       "      <td>...</td>\n",
       "      <td>NaN</td>\n",
       "      <td>NaN</td>\n",
       "      <td>NaN</td>\n",
       "      <td>NaN</td>\n",
       "      <td>NaN</td>\n",
       "      <td>NaN</td>\n",
       "      <td>NaN</td>\n",
       "      <td>NaN</td>\n",
       "      <td>NaN</td>\n",
       "      <td>NaN</td>\n",
       "    </tr>\n",
       "    <tr>\n",
       "      <th>3</th>\n",
       "      <td>2001</td>\n",
       "      <td>11</td>\n",
       "      <td>11000000.0</td>\n",
       "      <td>1</td>\n",
       "      <td>2.0</td>\n",
       "      <td>4.0</td>\n",
       "      <td>6.0</td>\n",
       "      <td>5.0</td>\n",
       "      <td>1982.0</td>\n",
       "      <td>19.0</td>\n",
       "      <td>...</td>\n",
       "      <td>NaN</td>\n",
       "      <td>NaN</td>\n",
       "      <td>NaN</td>\n",
       "      <td>NaN</td>\n",
       "      <td>NaN</td>\n",
       "      <td>NaN</td>\n",
       "      <td>NaN</td>\n",
       "      <td>NaN</td>\n",
       "      <td>NaN</td>\n",
       "      <td>NaN</td>\n",
       "    </tr>\n",
       "    <tr>\n",
       "      <th>4</th>\n",
       "      <td>2001</td>\n",
       "      <td>11</td>\n",
       "      <td>11000000.0</td>\n",
       "      <td>1</td>\n",
       "      <td>1.0</td>\n",
       "      <td>4.0</td>\n",
       "      <td>21.0</td>\n",
       "      <td>7.0</td>\n",
       "      <td>1957.0</td>\n",
       "      <td>44.0</td>\n",
       "      <td>...</td>\n",
       "      <td>NaN</td>\n",
       "      <td>NaN</td>\n",
       "      <td>NaN</td>\n",
       "      <td>NaN</td>\n",
       "      <td>NaN</td>\n",
       "      <td>NaN</td>\n",
       "      <td>NaN</td>\n",
       "      <td>NaN</td>\n",
       "      <td>NaN</td>\n",
       "      <td>NaN</td>\n",
       "    </tr>\n",
       "  </tbody>\n",
       "</table>\n",
       "<p>5 rows × 364 columns</p>\n",
       "</div>"
      ],
      "text/plain": [
       "   v0101  uf       v0102  v0103  v0301  v0302  v3031  v3032   v3033  v8005  \\\n",
       "0   2001  11  11000000.0      1    4.0    4.0   18.0    7.0  1978.0   23.0   \n",
       "1   2001  11  11000000.0      1    3.0    2.0    3.0    5.0  1977.0   24.0   \n",
       "2   2001  11  11000000.0      1    5.0    4.0   19.0    7.0  1998.0    3.0   \n",
       "3   2001  11  11000000.0      1    2.0    4.0    6.0    5.0  1982.0   19.0   \n",
       "4   2001  11  11000000.0      1    1.0    4.0   21.0    7.0  1957.0   44.0   \n",
       "\n",
       "   ...    v2201  v2202  v1623  v1624  v1625  v1626  v1627  v1628  v1629  v1630  \n",
       "0  ...      NaN    NaN    NaN    NaN    NaN    NaN    NaN    NaN    NaN    NaN  \n",
       "1  ...      NaN    NaN    NaN    NaN    NaN    NaN    NaN    NaN    NaN    NaN  \n",
       "2  ...      NaN    NaN    NaN    NaN    NaN    NaN    NaN    NaN    NaN    NaN  \n",
       "3  ...      NaN    NaN    NaN    NaN    NaN    NaN    NaN    NaN    NaN    NaN  \n",
       "4  ...      NaN    NaN    NaN    NaN    NaN    NaN    NaN    NaN    NaN    NaN  \n",
       "\n",
       "[5 rows x 364 columns]"
      ]
     },
     "execution_count": 64,
     "metadata": {},
     "output_type": "execute_result"
    }
   ],
   "source": [
    "dados2001.head()"
   ]
  },
  {
   "cell_type": "code",
   "execution_count": 65,
   "metadata": {
    "collapsed": false
   },
   "outputs": [],
   "source": [
    "dados2001.v4708 = dados2001.v4708.astype('category')\n",
    "dados2001.v4708.cat.categories=('ig', 'Agrícola', 'Não agrícola', 'ig0', 'ig1', 'ig2')\n",
    "\n"
   ]
  },
  {
   "cell_type": "code",
   "execution_count": 66,
   "metadata": {
    "collapsed": false
   },
   "outputs": [],
   "source": [
    "\n",
    "dados01c = dados2001[(dados2001.v4708=='Agrícola') | (dados2001.v4708== ('Não agrícola'))]\n"
   ]
  },
  {
   "cell_type": "code",
   "execution_count": 67,
   "metadata": {
    "collapsed": false
   },
   "outputs": [
    {
     "data": {
      "text/plain": [
       "0         4.0\n",
       "1         4.0\n",
       "2         NaN\n",
       "3         4.0\n",
       "4         4.0\n",
       "5         4.0\n",
       "6         4.0\n",
       "7         4.0\n",
       "8         4.0\n",
       "9         4.0\n",
       "10        4.0\n",
       "11        2.0\n",
       "12        NaN\n",
       "13        4.0\n",
       "14        4.0\n",
       "15        4.0\n",
       "16        4.0\n",
       "17        4.0\n",
       "18        4.0\n",
       "19        4.0\n",
       "20        4.0\n",
       "21        2.0\n",
       "22        4.0\n",
       "23        4.0\n",
       "24        4.0\n",
       "25        4.0\n",
       "26        4.0\n",
       "27        4.0\n",
       "28        4.0\n",
       "29        4.0\n",
       "         ... \n",
       "378813    4.0\n",
       "378814    4.0\n",
       "378815    4.0\n",
       "378816    4.0\n",
       "378817    4.0\n",
       "378818    4.0\n",
       "378819    4.0\n",
       "378820    4.0\n",
       "378821    4.0\n",
       "378822    4.0\n",
       "378823    4.0\n",
       "378824    4.0\n",
       "378825    NaN\n",
       "378826    4.0\n",
       "378827    4.0\n",
       "378828    4.0\n",
       "378829    4.0\n",
       "378830    4.0\n",
       "378831    4.0\n",
       "378832    NaN\n",
       "378833    4.0\n",
       "378834    4.0\n",
       "378835    NaN\n",
       "378836    4.0\n",
       "378837    4.0\n",
       "378838    4.0\n",
       "378839    4.0\n",
       "378840    4.0\n",
       "378841    4.0\n",
       "378842    4.0\n",
       "Name: v9122, dtype: float64"
      ]
     },
     "execution_count": 67,
     "metadata": {},
     "output_type": "execute_result"
    }
   ],
   "source": [
    "dados2001.v9122"
   ]
  },
  {
   "cell_type": "code",
   "execution_count": 68,
   "metadata": {
    "collapsed": false
   },
   "outputs": [],
   "source": [
    "dados2001.v9122 = dados2001.v9122.astype('category')\n",
    "dados2001.v9122.cat.categories=('ig','Sim', 'Não')"
   ]
  },
  {
   "cell_type": "code",
   "execution_count": 69,
   "metadata": {
    "collapsed": false
   },
   "outputs": [
    {
     "data": {
      "text/plain": [
       "0         Não\n",
       "1         Não\n",
       "3         Não\n",
       "4         Não\n",
       "5         Não\n",
       "6         Não\n",
       "7         Não\n",
       "8         Não\n",
       "9         Não\n",
       "10        Não\n",
       "11        Sim\n",
       "13        Não\n",
       "14        Não\n",
       "15        Não\n",
       "16        Não\n",
       "17        Não\n",
       "18        Não\n",
       "19        Não\n",
       "20        Não\n",
       "21        Sim\n",
       "22        Não\n",
       "23        Não\n",
       "24        Não\n",
       "25        Não\n",
       "26        Não\n",
       "27        Não\n",
       "28        Não\n",
       "29        Não\n",
       "30        Não\n",
       "31        Não\n",
       "         ... \n",
       "378809    Não\n",
       "378810    Não\n",
       "378812    Não\n",
       "378813    Não\n",
       "378814    Não\n",
       "378815    Não\n",
       "378816    Não\n",
       "378817    Não\n",
       "378818    Não\n",
       "378819    Não\n",
       "378820    Não\n",
       "378821    Não\n",
       "378822    Não\n",
       "378823    Não\n",
       "378824    Não\n",
       "378826    Não\n",
       "378827    Não\n",
       "378828    Não\n",
       "378829    Não\n",
       "378830    Não\n",
       "378831    Não\n",
       "378833    Não\n",
       "378834    Não\n",
       "378836    Não\n",
       "378837    Não\n",
       "378838    Não\n",
       "378839    Não\n",
       "378840    Não\n",
       "378841    Não\n",
       "378842    Não\n",
       "Name: v9122, dtype: category\n",
       "Categories (3, object): [ig, Sim, Não]"
      ]
     },
     "execution_count": 69,
     "metadata": {},
     "output_type": "execute_result"
    }
   ],
   "source": [
    "dados01c2 = dados2001[(~dados2001.v9122.isnull())]\n",
    "dados01c2.v9122"
   ]
  },
  {
   "cell_type": "code",
   "execution_count": 101,
   "metadata": {
    "collapsed": false
   },
   "outputs": [
    {
     "name": "stdout",
     "output_type": "stream",
     "text": [
      "Tabela Cruzada por total GERAL: agricultura X aposentados, +60\n"
     ]
    },
    {
     "data": {
      "text/html": [
       "<div>\n",
       "<table border=\"1\" class=\"dataframe\">\n",
       "  <thead>\n",
       "    <tr style=\"text-align: right;\">\n",
       "      <th>Agricultura</th>\n",
       "      <th>Agrícola</th>\n",
       "      <th>Não agrícola</th>\n",
       "    </tr>\n",
       "    <tr>\n",
       "      <th>Apoentados</th>\n",
       "      <th></th>\n",
       "      <th></th>\n",
       "    </tr>\n",
       "  </thead>\n",
       "  <tbody>\n",
       "    <tr>\n",
       "      <th>Sim</th>\n",
       "      <td>14.0</td>\n",
       "      <td>16.0</td>\n",
       "    </tr>\n",
       "    <tr>\n",
       "      <th>Não</th>\n",
       "      <td>8.0</td>\n",
       "      <td>42.0</td>\n",
       "    </tr>\n",
       "  </tbody>\n",
       "</table>\n",
       "</div>"
      ],
      "text/plain": [
       "Agricultura  Agrícola  Não agrícola\n",
       "Apoentados                         \n",
       "Sim              14.0          16.0\n",
       "Não               8.0          42.0"
      ]
     },
     "execution_count": 101,
     "metadata": {},
     "output_type": "execute_result"
    }
   ],
   "source": [
    "print('Tabela Cruzada por total GERAL: agricultura X aposentados, +60')\n",
    "ct10=pd.crosstab(dados01c2.v9122,dados01c.v4708,margins=True, rownames=['Apoentados'], colnames=['Agricultura']).apply(percConvert, axis=1)\n",
    "\n",
    "\n",
    "ab = ct10.iloc[1:3, 1:3]\n",
    "ab"
   ]
  },
  {
   "cell_type": "code",
   "execution_count": 102,
   "metadata": {
    "collapsed": false
   },
   "outputs": [
    {
     "data": {
      "text/plain": [
       "<matplotlib.text.Text at 0x2173f6560b8>"
      ]
     },
     "execution_count": 102,
     "metadata": {},
     "output_type": "execute_result"
    },
    {
     "data": {
      "image/png": "[encoded data removed]",
      "text/plain": [
       "<matplotlib.figure.Figure at 0x21737f16b38>"
      ]
     },
     "metadata": {},
     "output_type": "display_data"
    },
    {
     "data": {
      "image/png": "[encoded data removed]",
      "text/plain": [
       "<matplotlib.figure.Figure at 0x2173f665048>"
      ]
     },
     "metadata": {},
     "output_type": "display_data"
    }
   ],
   "source": [
    "plot = ab.plot(kind='bar',title='Agricultura 2001', color =('Moccasin', 'MediumAquamarine'))\n",
    "plt.ylabel('Freq.Relativa (em%)')\n",
    "plot\n",
    "\n",
    "ct5 = ct5.iloc[0:2,0:2]\n",
    "plot = ct5.plot(kind='bar',title='Agricultura 2014', color =('Moccasin', 'MediumAquamarine', 'Salmon'))\n",
    "plt.ylabel('Freq.Relativa (em%)')"
   ]
  },
  {
   "cell_type": "markdown",
   "metadata": {},
   "source": [
    "Como podemos ver comparado com o primeiro gráfico vemos uma evolução na aposentadoria. Hoje muito mais gente se encontra aposetada em relação ao passado. Porém a relatividade entre a frequencia entre os agrícolas e não agrícolas se manteve constante."
   ]
  },
  {
   "cell_type": "markdown",
   "metadata": {},
   "source": [
    "## <font color='blue'>Conclusão Geral</font>\n",
    "\n",
    "#### Podemos concluir que após todas estas pesquisas, na maior parte dos casos a diferença entre os aposentados agrícolas e não agrícolas se mante semelhantes. Assim, não há uma grande diferença entre esses aposentados em quesito de conseguir se aposentar. A comparação entre os sexos e entre as raças/cor também não tem grandes diferenças para a aposentadoria. A única grande diferença é quando se trata do valor desssa aposentadoria, aqueles da região não agrícola conseguem aposentadorias de valores mais altos comparados com aqueles da regiõ agrícola. Porém a moda entre ambas giram em torno de um salário mínimo, na faixa de 700 à 800 reais."
   ]
  },
  {
   "cell_type": "code",
   "execution_count": null,
   "metadata": {
    "collapsed": true
   },
   "outputs": [],
   "source": []
  }
 ],
 "metadata": {
  "kernelspec": {
   "display_name": "Python 3",
   "language": "python",
   "name": "python3"
  },
  "language_info": {
   "codemirror_mode": {
    "name": "ipython",
    "version": 3
   },
   "file_extension": ".py",
   "mimetype": "text/x-python",
   "name": "python",
   "nbconvert_exporter": "python",
   "pygments_lexer": "ipython3",
   "version": "3.5.2"
  }
 },
 "nbformat": 4,
 "nbformat_minor": 0
}
