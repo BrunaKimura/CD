{
 "cells": [
  {
   "cell_type": "markdown",
   "metadata": {},
   "source": [
    "___\n",
    "# Atividade: Variáveis qualitativas com a PNAD (ALUNOS)\n",
    "___\n",
    "\n",
    "## Aula 02\n",
    "\n",
    "\n",
    "**Link úteis:**\n",
    "1.\tLeitura prévia necessária: Magalhães e Lima (7ª. Edição): pág. 9 a 16 – destacando para variáveis qualitativas.\n",
    "2.\t10 Minutes to Pandas: http://pandas.pydata.org/pandas-docs/stable/10min.html\n",
    "3.\tEssential Basic Functionality: http://pandas.pydata.org/pandas-docs/stable/basics.html\n",
    "4.  Estude a aula `Aula02 Análise Exploratoria Variáveis Qualitativas-ALUNOS.ipynb`, o qual contém uma introdução ao Jupyter Notebook. A publicação dessa aula tem como objetivo auxiliá-lo, caso queira, no desenvolvimento dos seus próximos programas, como esta atividade.\n",
    "\n",
    "**Hoje:**\n",
    "1.\tAnalisar variáveis qualitativas de forma uni e bivariadas utilizando tabelas de frequências e gráficos de barras e de pizza (ou setor).\n",
    "2.  Trabalhar com a base de dados da PNAD 2013 - Pesquisa Nacional por Amostra de Domicílios\n",
    "\n",
    "**Próxima aula:**\n",
    "1.\tLeitura prévia necessária: Magalhães e Lima (7ª. Edição): pág. 9 a 17 – destacando para variáveis quantitativas; pág. 106 e 107 (Definição 4.1 e Exemplo 4.1).\n",
    "\n",
    "___\n"
   ]
  },
  {
   "cell_type": "markdown",
   "metadata": {},
   "source": [
    "___\n",
    "## <font color='blue'>PNAD 2013 – PESQUISA NACIONAL POR AMOSTRA DE DOMICÍLIOS</font>\n",
    "\n",
    "**Base de dados reduzida: ** `pes2013A.txt` (75 MB)\n",
    "[Acesse a base de dados aqui: https://dl.dropboxusercontent.com/u/65763596/Aula02/pes2013A.txt] \n",
    "\n",
    "**Dicionário das variáveis: ** `Dicionário de variáveis de pessoas - PNAD 2013.xlsx`\n",
    "[Acesse dicionário aqui: https://dl.dropboxusercontent.com/u/65763596/Aula02/Dicion%C3%A1rio%20de%20vari%C3%A1veis%20de%20pessoas%20-%20PNAD%202013.xls]\n",
    "\n",
    "\n",
    "Muitos especialistas na área de negócios dizem que empresários mais bem sucedidos são aqueles que fazem um planejamento antes de começar seu próprio negócio. Nessa visão, imagine que o Sr. Gold tenha como grande objetivo abrir uma nova faculdade e para isso deseja estudar o perfil do estudante que cursa ensino médio ou pré-vestibular e do que cursa ensino superior. \n",
    "\n",
    "Assuma que as variáveis de interesse a respeito dos estudantes sejam relativamente as mesmas de 2013 até o momento atual. Nesse caso, seja criativo para ajudar o Sr. Gold que deseja abrir seu negócio, mas não tem certeza sobre quais variáveis o interessam. \n",
    "\n",
    "Vocês podem ajudá-lo?!  \n",
    "\n",
    "As variáveis a seguir devem fazer parte da sua análise:\n",
    "\n",
    "* V0302: sexo\n",
    "* V0404: cor ou raça\n",
    "* V6002: rede de ensino\n",
    "* V4802: nível de ensino e grupos de séries do ensino fundamental que frequentavam (todos os estudantes)\n",
    "\n",
    "** Crie uma variável com região do indivíduo amostrado considerando a variável `UF` que define o estado e também trabalhe com essa nova variável em suas análises. ** \n",
    "\n",
    "** Escolha mais pelo menos DUAS variáveis qualitativas para completar sua análise!! **\n",
    "\n",
    "Faça uma análise exploratória apenas com as variáveis qualitativas com foco no objetivo do Sr. Gold.\n",
    "\n",
    "Sua análise deve conter pelo menos uma das seguintes visualizações:\n",
    "\n",
    "1. Gráfico de colunas (bar) e setor (pie) com as frequências relativas cadas categorias das variáveis qualitativas.\n",
    "2. Tabela cruzada entre pares de variaveis qualitativas. Montar o gráfico de colunas. Repetir o processo habilitando a opção \"stacked=True\".\n",
    "\n",
    "\n",
    "___\n",
    "\n",
    "\n",
    "<font color='red'>\n",
    "Crie um repositório chamado CD em seu Github\n",
    "</font>\n",
    "\n",
    "\n",
    "Neste repositório, salve seu trabalho numa pasta chamada aula2\n",
    "\n",
    "Por exemplo, se seu login for *pikachu* o projeto vai estar na pasta:\n",
    "\n",
    "https://github.com/<font color=red>pikachu/CD/aula2</font>\n",
    "\n",
    "\n",
    "\n",
    "## <font color='red'>Terça-feira (dia 16/08), no horário de atendimento da sua turma, deverá apresentar aos NINJAS!!</font>\n",
    "___"
   ]
  },
  {
   "cell_type": "code",
   "execution_count": 1,
   "metadata": {
    "collapsed": false
   },
   "outputs": [],
   "source": [
    "%matplotlib inline\n",
    "import pandas as pd\n",
    "import matplotlib.pyplot as plt\n",
    "from numpy import arange\n",
    "import os"
   ]
  },
  {
   "cell_type": "code",
   "execution_count": 2,
   "metadata": {
    "collapsed": false
   },
   "outputs": [
    {
     "name": "stdout",
     "output_type": "stream",
     "text": [
      "Esperamos trabalhar no diretório\n",
      "C:\\Users\\Bruna\\Documents\\GitHub\\CD\\aula2\n"
     ]
    }
   ],
   "source": [
    "print('Esperamos trabalhar no diretório')\n",
    "print(os.getcwd())"
   ]
  },
  {
   "cell_type": "code",
   "execution_count": 3,
   "metadata": {
    "collapsed": true
   },
   "outputs": [],
   "source": [
    "dados = pd.read_excel('aula2-PNAD_BrunaK.xlsx')"
   ]
  },
  {
   "cell_type": "code",
   "execution_count": 4,
   "metadata": {
    "collapsed": false
   },
   "outputs": [
    {
     "data": {
      "text/html": [
       "<div>\n",
       "<table border=\"1\" class=\"dataframe\">\n",
       "  <thead>\n",
       "    <tr style=\"text-align: right;\">\n",
       "      <th></th>\n",
       "      <th>Idade</th>\n",
       "      <th>UF</th>\n",
       "      <th>Sexo</th>\n",
       "      <th>Cor</th>\n",
       "      <th>Rede</th>\n",
       "      <th>Nível</th>\n",
       "      <th>Ler</th>\n",
       "      <th>Curso</th>\n",
       "      <th>Renda</th>\n",
       "    </tr>\n",
       "  </thead>\n",
       "  <tbody>\n",
       "    <tr>\n",
       "      <th>1</th>\n",
       "      <td>42</td>\n",
       "      <td>11</td>\n",
       "      <td>4</td>\n",
       "      <td>2</td>\n",
       "      <td>4</td>\n",
       "      <td>NaN</td>\n",
       "      <td>1</td>\n",
       "      <td>NaN</td>\n",
       "      <td>350.0</td>\n",
       "    </tr>\n",
       "    <tr>\n",
       "      <th>2</th>\n",
       "      <td>64</td>\n",
       "      <td>11</td>\n",
       "      <td>4</td>\n",
       "      <td>8</td>\n",
       "      <td>4</td>\n",
       "      <td>NaN</td>\n",
       "      <td>3</td>\n",
       "      <td>NaN</td>\n",
       "      <td>339.0</td>\n",
       "    </tr>\n",
       "    <tr>\n",
       "      <th>3</th>\n",
       "      <td>13</td>\n",
       "      <td>11</td>\n",
       "      <td>4</td>\n",
       "      <td>4</td>\n",
       "      <td>2</td>\n",
       "      <td>8.0</td>\n",
       "      <td>1</td>\n",
       "      <td>1.0</td>\n",
       "      <td>339.0</td>\n",
       "    </tr>\n",
       "    <tr>\n",
       "      <th>4</th>\n",
       "      <td>23</td>\n",
       "      <td>11</td>\n",
       "      <td>2</td>\n",
       "      <td>8</td>\n",
       "      <td>4</td>\n",
       "      <td>NaN</td>\n",
       "      <td>1</td>\n",
       "      <td>NaN</td>\n",
       "      <td>266.0</td>\n",
       "    </tr>\n",
       "    <tr>\n",
       "      <th>5</th>\n",
       "      <td>19</td>\n",
       "      <td>11</td>\n",
       "      <td>4</td>\n",
       "      <td>8</td>\n",
       "      <td>2</td>\n",
       "      <td>11.0</td>\n",
       "      <td>1</td>\n",
       "      <td>5.0</td>\n",
       "      <td>266.0</td>\n",
       "    </tr>\n",
       "  </tbody>\n",
       "</table>\n",
       "</div>"
      ],
      "text/plain": [
       "   Idade  UF  Sexo  Cor  Rede  Nível  Ler  Curso  Renda\n",
       "1     42  11     4    2     4    NaN    1    NaN  350.0\n",
       "2     64  11     4    8     4    NaN    3    NaN  339.0\n",
       "3     13  11     4    4     2    8.0    1    1.0  339.0\n",
       "4     23  11     2    8     4    NaN    1    NaN  266.0\n",
       "5     19  11     4    8     2   11.0    1    5.0  266.0"
      ]
     },
     "execution_count": 4,
     "metadata": {},
     "output_type": "execute_result"
    }
   ],
   "source": [
    "dados.head()"
   ]
  },
  {
   "cell_type": "code",
   "execution_count": 5,
   "metadata": {
    "collapsed": false
   },
   "outputs": [
    {
     "data": {
      "text/html": [
       "<div>\n",
       "<table border=\"1\" class=\"dataframe\">\n",
       "  <thead>\n",
       "    <tr style=\"text-align: right;\">\n",
       "      <th></th>\n",
       "      <th>Idade</th>\n",
       "      <th>UF</th>\n",
       "      <th>Sexo</th>\n",
       "      <th>Cor</th>\n",
       "      <th>Rede</th>\n",
       "      <th>Nível</th>\n",
       "      <th>Ler</th>\n",
       "      <th>Curso</th>\n",
       "      <th>Renda</th>\n",
       "    </tr>\n",
       "  </thead>\n",
       "  <tbody>\n",
       "    <tr>\n",
       "      <th>1</th>\n",
       "      <td>42</td>\n",
       "      <td>11</td>\n",
       "      <td>4</td>\n",
       "      <td>2</td>\n",
       "      <td>4</td>\n",
       "      <td>NaN</td>\n",
       "      <td>1</td>\n",
       "      <td>NaN</td>\n",
       "      <td>350.0</td>\n",
       "    </tr>\n",
       "    <tr>\n",
       "      <th>2</th>\n",
       "      <td>64</td>\n",
       "      <td>11</td>\n",
       "      <td>4</td>\n",
       "      <td>8</td>\n",
       "      <td>4</td>\n",
       "      <td>NaN</td>\n",
       "      <td>3</td>\n",
       "      <td>NaN</td>\n",
       "      <td>339.0</td>\n",
       "    </tr>\n",
       "    <tr>\n",
       "      <th>3</th>\n",
       "      <td>13</td>\n",
       "      <td>11</td>\n",
       "      <td>4</td>\n",
       "      <td>4</td>\n",
       "      <td>2</td>\n",
       "      <td>8.0</td>\n",
       "      <td>1</td>\n",
       "      <td>1.0</td>\n",
       "      <td>339.0</td>\n",
       "    </tr>\n",
       "    <tr>\n",
       "      <th>4</th>\n",
       "      <td>23</td>\n",
       "      <td>11</td>\n",
       "      <td>2</td>\n",
       "      <td>8</td>\n",
       "      <td>4</td>\n",
       "      <td>NaN</td>\n",
       "      <td>1</td>\n",
       "      <td>NaN</td>\n",
       "      <td>266.0</td>\n",
       "    </tr>\n",
       "    <tr>\n",
       "      <th>5</th>\n",
       "      <td>19</td>\n",
       "      <td>11</td>\n",
       "      <td>4</td>\n",
       "      <td>8</td>\n",
       "      <td>2</td>\n",
       "      <td>11.0</td>\n",
       "      <td>1</td>\n",
       "      <td>5.0</td>\n",
       "      <td>266.0</td>\n",
       "    </tr>\n",
       "  </tbody>\n",
       "</table>\n",
       "</div>"
      ],
      "text/plain": [
       "   Idade  UF  Sexo  Cor  Rede  Nível  Ler  Curso  Renda\n",
       "1     42  11     4    2     4    NaN    1    NaN  350.0\n",
       "2     64  11     4    8     4    NaN    3    NaN  339.0\n",
       "3     13  11     4    4     2    8.0    1    1.0  339.0\n",
       "4     23  11     2    8     4    NaN    1    NaN  266.0\n",
       "5     19  11     4    8     2   11.0    1    5.0  266.0"
      ]
     },
     "execution_count": 5,
     "metadata": {},
     "output_type": "execute_result"
    }
   ],
   "source": [
    "'''Como queremos analisar apenas o perfil do estudante que cursa ensino médio \n",
    "ou pré-vestibular e do que cursa ensino superior, podemos retirar da analise: crianças de até 13 anos.''' \n",
    "\n",
    "dados[dados.Idade > 13]\n",
    "dados.head()"
   ]
  },
  {
   "cell_type": "code",
   "execution_count": 6,
   "metadata": {
    "collapsed": false
   },
   "outputs": [
    {
     "name": "stderr",
     "output_type": "stream",
     "text": [
      "C:\\Users\\Bruna\\Anaconda3\\lib\\site-packages\\ipykernel\\__main__.py:4: SettingWithCopyWarning: \n",
      "A value is trying to be set on a copy of a slice from a DataFrame\n",
      "\n",
      "See the caveats in the documentation: http://pandas.pydata.org/pandas-docs/stable/indexing.html#indexing-view-versus-copy\n",
      "C:\\Users\\Bruna\\Anaconda3\\lib\\site-packages\\ipykernel\\__main__.py:5: SettingWithCopyWarning: \n",
      "A value is trying to be set on a copy of a slice from a DataFrame\n",
      "\n",
      "See the caveats in the documentation: http://pandas.pydata.org/pandas-docs/stable/indexing.html#indexing-view-versus-copy\n",
      "C:\\Users\\Bruna\\Anaconda3\\lib\\site-packages\\ipykernel\\__main__.py:6: SettingWithCopyWarning: \n",
      "A value is trying to be set on a copy of a slice from a DataFrame\n",
      "\n",
      "See the caveats in the documentation: http://pandas.pydata.org/pandas-docs/stable/indexing.html#indexing-view-versus-copy\n",
      "C:\\Users\\Bruna\\Anaconda3\\lib\\site-packages\\ipykernel\\__main__.py:7: SettingWithCopyWarning: \n",
      "A value is trying to be set on a copy of a slice from a DataFrame\n",
      "\n",
      "See the caveats in the documentation: http://pandas.pydata.org/pandas-docs/stable/indexing.html#indexing-view-versus-copy\n",
      "C:\\Users\\Bruna\\Anaconda3\\lib\\site-packages\\ipykernel\\__main__.py:8: SettingWithCopyWarning: \n",
      "A value is trying to be set on a copy of a slice from a DataFrame\n",
      "\n",
      "See the caveats in the documentation: http://pandas.pydata.org/pandas-docs/stable/indexing.html#indexing-view-versus-copy\n"
     ]
    }
   ],
   "source": [
    "#Arrumando por região\n",
    "\n",
    "dados['Reg']=dados.UF\n",
    "dados.Reg[(dados.UF>10)&(dados.UF<=17)]=1\n",
    "dados.Reg[(dados.UF>20)&(dados.UF<=29)]=2\n",
    "dados.Reg[(dados.UF>30)&(dados.UF<=35)]=3\n",
    "dados.Reg[(dados.UF>40)&(dados.UF<=43)]=4\n",
    "dados.Reg[(dados.UF>=50)&(dados.UF<=53)]=5"
   ]
  },
  {
   "cell_type": "code",
   "execution_count": 7,
   "metadata": {
    "collapsed": false
   },
   "outputs": [],
   "source": [
    "n=dados.shape[0]\n",
    "dados.Sexo = dados.Sexo.astype('category')\n",
    "dados.Cor = dados.Cor.astype('category')\n",
    "dados.Rede= dados.Rede.astype('category')\n",
    "dados.Renda = dados.Renda.astype('float')\n",
    "dados.UF= dados.UF.astype('category')\n",
    "dados.Ler= dados.Ler.astype('category')\n",
    "dados.Curso= dados.Curso.astype('category')\n",
    "dados.Reg= dados.Reg.astype('category')\n",
    "\n",
    "dados.Sexo.cat.categories = ('Feminino','Masculino')\n",
    "dados.Cor.cat.categories = ('Branca', 'Preta', 'Amarela', 'Parda', 'Indígena', 'Sem declaração')\n",
    "dados.Rede.cat.categories = ('Pública','Privada')\n",
    "dados.Ler.cat.categories = ('Sim','Não')\n",
    "dados.Curso.cat.categories = ('Fundamental', 'Médio', 'Supletivo fund', 'Supletivo Médio', 'Graduaçao',\n",
    "                              'Alfabetização', 'Creche', 'CA','Maternal','Pré-vestibular', 'Mestrado/Doutorado')\n",
    "\n",
    "dados.Reg.cat.categories = ('Norte','Nordeste', 'Sudeste', 'Sul','Centro-Oeste')\n"
   ]
  },
  {
   "cell_type": "code",
   "execution_count": 8,
   "metadata": {
    "collapsed": false
   },
   "outputs": [
    {
     "name": "stdout",
     "output_type": "stream",
     "text": [
      "Frequências relativas por Sexo:\n",
      "Feminino     48.6\n",
      "Masculino    51.4\n",
      "dtype: float64 \n",
      "\n",
      "Frequências relativas por Cor:\n",
      "Branca             0.5\n",
      "Preta             42.8\n",
      "Amarela            8.3\n",
      "Parda              0.4\n",
      "Indígena          48.0\n",
      "Sem declaração     0.0\n",
      "dtype: float64 \n",
      "\n",
      "Frequências relativas por Rede:\n",
      "Pública    28.4\n",
      "Privada    71.6\n",
      "dtype: float64 \n",
      "\n",
      "Frequências relativas por Nível:\n",
      "1     1.7\n",
      "2     0.3\n",
      "3     0.1\n",
      "4     0.3\n",
      "5     0.6\n",
      "6     1.6\n",
      "7     7.0\n",
      "8     6.3\n",
      "9     0.1\n",
      "10    4.8\n",
      "11    3.8\n",
      "Name: Nível, dtype: float64 \n",
      "\n",
      "Frequências relativas por Reg:\n",
      "Norte           16.3\n",
      "Nordeste        28.8\n",
      "Sudeste         29.0\n",
      "Sul             15.5\n",
      "Centro-Oeste    10.4\n",
      "dtype: float64 \n",
      "\n",
      "Frequências relativas por Ler:\n",
      "Sim    84.2\n",
      "Não    15.8\n",
      "dtype: float64 \n",
      "\n",
      "Frequências relativas por Curso:\n",
      "Fundamental           15.5\n",
      "Médio                  4.5\n",
      "Supletivo fund         0.4\n",
      "Supletivo Médio        0.3\n",
      "Graduaçao              3.6\n",
      "Alfabetização          0.1\n",
      "Creche                 1.8\n",
      "CA                     0.3\n",
      "Maternal               1.7\n",
      "Pré-vestibular         0.1\n",
      "Mestrado/Doutorado     0.2\n",
      "dtype: float64 \n",
      "\n"
     ]
    }
   ],
   "source": [
    "# Tabelas univariada\n",
    "print('Frequências relativas por Sexo:')\n",
    "ut1 = (dados.Sexo.value_counts()/n*100).round(decimals=1).reindex(['Feminino','Masculino'])\n",
    "print(ut1,'\\n')\n",
    "\n",
    "print('Frequências relativas por Cor:')\n",
    "ut2 = (dados.Cor.value_counts()/n*100).round(decimals=1).reindex(['Branca', 'Preta', 'Amarela', 'Parda', 'Indígena', 'Sem declaração'])\n",
    "print(ut2,'\\n')\n",
    "\n",
    "print('Frequências relativas por Rede:')\n",
    "ut3 = (dados.Rede.value_counts()/n*100).round(decimals=1).reindex(['Pública','Privada'])\n",
    "print(ut3,'\\n')\n",
    "\n",
    "print('Frequências relativas por Nível:')\n",
    "ut4 = (dados.Nível.value_counts()/n*100).round(decimals=1).reindex([1,2,3,4,5,6,7,8,9,10,11])\n",
    "print(ut4,'\\n')\n",
    "\n",
    "print('Frequências relativas por Reg:')\n",
    "ut5 = (dados.Reg.value_counts()/n*100).round(decimals=1).reindex(['Norte', 'Nordeste', 'Sudeste','Sul', 'Centro-Oeste',])\n",
    "print(ut5,'\\n')\n",
    "\n",
    "print('Frequências relativas por Ler:')\n",
    "ut6 = (dados.Ler.value_counts()/n*100).round(decimals=1).reindex(['Sim','Não'])\n",
    "print(ut6,'\\n')\n",
    "\n",
    "print('Frequências relativas por Curso:')\n",
    "ut7 = (dados.Curso.value_counts()/n*100).round(decimals=1).reindex(['Fundamental', 'Médio', 'Supletivo fund', 'Supletivo Médio', 'Graduaçao', 'Alfabetização', 'Creche', 'CA','Maternal','Pré-vestibular', 'Mestrado/Doutorado'])\n",
    "print(ut7,'\\n')"
   ]
  },
  {
   "cell_type": "code",
   "execution_count": 9,
   "metadata": {
    "collapsed": false
   },
   "outputs": [
    {
     "data": {
      "text/plain": [
       "<matplotlib.axes._subplots.AxesSubplot at 0x1f34781ab00>"
      ]
     },
     "execution_count": 9,
     "metadata": {},
     "output_type": "execute_result"
    },
    {
     "data": {
      "image/png": "[encoded data removed]",
      "text/plain": [
       "<matplotlib.figure.Figure at 0x1f343f8d4a8>"
      ]
     },
     "metadata": {},
     "output_type": "display_data"
    }
   ],
   "source": [
    "'''Gáficos Barras'''\n",
    "\n",
    "dfc = dados.Sexo.value_counts()\n",
    "dfc.plot(kind='bar', color=('blue', 'red'), legend=False, title= 'Sexo')\n",
    "\n",
    "\n"
   ]
  },
  {
   "cell_type": "code",
   "execution_count": 10,
   "metadata": {
    "collapsed": false
   },
   "outputs": [
    {
     "data": {
      "text/plain": [
       "<matplotlib.axes._subplots.AxesSubplot at 0x1f3477fb048>"
      ]
     },
     "execution_count": 10,
     "metadata": {},
     "output_type": "execute_result"
    },
    {
     "data": {
      "image/png": "[encoded data removed]",
      "text/plain": [
       "<matplotlib.figure.Figure at 0x1f347822cf8>"
      ]
     },
     "metadata": {},
     "output_type": "display_data"
    }
   ],
   "source": [
    "dfc2 = dados.Cor.value_counts()\n",
    "dfc2.plot(kind='bar', legend=False, title= 'Cor')\n",
    "\n"
   ]
  },
  {
   "cell_type": "code",
   "execution_count": 11,
   "metadata": {
    "collapsed": false
   },
   "outputs": [
    {
     "data": {
      "text/plain": [
       "<matplotlib.axes._subplots.AxesSubplot at 0x1f3509f1780>"
      ]
     },
     "execution_count": 11,
     "metadata": {},
     "output_type": "execute_result"
    },
    {
     "data": {
      "image/png": "[encoded data removed]",
      "text/plain": [
       "<matplotlib.figure.Figure at 0x1f350a23470>"
      ]
     },
     "metadata": {},
     "output_type": "display_data"
    }
   ],
   "source": [
    "dfc3 = dados.Rede.value_counts()\n",
    "dfc3.plot(kind='bar', color=('blue', 'red'), legend=False, title= 'Rede de ensino')\n"
   ]
  },
  {
   "cell_type": "code",
   "execution_count": 12,
   "metadata": {
    "collapsed": false
   },
   "outputs": [
    {
     "data": {
      "text/plain": [
       "<matplotlib.axes._subplots.AxesSubplot at 0x1f3558886d8>"
      ]
     },
     "execution_count": 12,
     "metadata": {},
     "output_type": "execute_result"
    },
    {
     "data": {
      "image/png": "[encoded data removed]",
      "text/plain": [
       "<matplotlib.figure.Figure at 0x1f355843be0>"
      ]
     },
     "metadata": {},
     "output_type": "display_data"
    }
   ],
   "source": [
    "\n",
    "dfc4 = dados.Nível.value_counts()\n",
    "dfc4.plot(kind='bar',legend=False, title= 'Nível de escolaridade')"
   ]
  },
  {
   "cell_type": "code",
   "execution_count": 13,
   "metadata": {
    "collapsed": false
   },
   "outputs": [
    {
     "data": {
      "text/plain": [
       "<matplotlib.axes._subplots.AxesSubplot at 0x1f343fc3780>"
      ]
     },
     "execution_count": 13,
     "metadata": {},
     "output_type": "execute_result"
    },
    {
     "data": {
      "image/png": "[encoded data removed]",
      "text/plain": [
       "<matplotlib.figure.Figure at 0x1f350aa45f8>"
      ]
     },
     "metadata": {},
     "output_type": "display_data"
    }
   ],
   "source": [
    "dfc5 = dados.Reg.value_counts()\n",
    "dfc5.plot(kind='bar', color=('blue', 'red'), legend=False, title= 'Regiões')"
   ]
  },
  {
   "cell_type": "code",
   "execution_count": 14,
   "metadata": {
    "collapsed": false
   },
   "outputs": [
    {
     "data": {
      "text/plain": [
       "<matplotlib.axes._subplots.AxesSubplot at 0x1f35096dd68>"
      ]
     },
     "execution_count": 14,
     "metadata": {},
     "output_type": "execute_result"
    },
    {
     "data": {
      "image/png": "[encoded data removed]",
      "text/plain": [
       "<matplotlib.figure.Figure at 0x1f343ff4a58>"
      ]
     },
     "metadata": {},
     "output_type": "display_data"
    }
   ],
   "source": [
    "dfc6 = dados.Ler.value_counts()\n",
    "dfc6.plot(kind='bar', color=('blue', 'red'), legend=False, title= 'Sabe ler')"
   ]
  },
  {
   "cell_type": "code",
   "execution_count": 15,
   "metadata": {
    "collapsed": false
   },
   "outputs": [
    {
     "data": {
      "text/plain": [
       "<matplotlib.axes._subplots.AxesSubplot at 0x1f34434f940>"
      ]
     },
     "execution_count": 15,
     "metadata": {},
     "output_type": "execute_result"
    },
    {
     "data": {
      "image/png": "[encoded data removed]",
      "text/plain": [
       "<matplotlib.figure.Figure at 0x1f3461624a8>"
      ]
     },
     "metadata": {},
     "output_type": "display_data"
    }
   ],
   "source": [
    "dfc7 = dados.Curso.value_counts()\n",
    "dfc7.plot(kind='bar', color=('blue', 'red'), legend=False, title= 'Curso que frequenta')"
   ]
  },
  {
   "cell_type": "code",
   "execution_count": 16,
   "metadata": {
    "collapsed": false
   },
   "outputs": [
    {
     "data": {
      "image/png": "[encoded data removed]",
      "text/plain": [
       "<matplotlib.figure.Figure at 0x1f346180a20>"
      ]
     },
     "metadata": {},
     "output_type": "display_data"
    }
   ],
   "source": [
    "'''Gráficos pizzas'''\n",
    "plot = ut1.plot(kind='pie',title='Sexo',autopct='%.1f',figsize=(6, 6))"
   ]
  },
  {
   "cell_type": "code",
   "execution_count": 17,
   "metadata": {
    "collapsed": false
   },
   "outputs": [
    {
     "data": {
      "image/png": "[encoded data removed]",
      "text/plain": [
       "<matplotlib.figure.Figure at 0x1f34620f6a0>"
      ]
     },
     "metadata": {},
     "output_type": "display_data"
    }
   ],
   "source": [
    "plot = ut2.plot(kind='pie',title='Raça',autopct='%.1f',figsize=(6, 6))"
   ]
  },
  {
   "cell_type": "code",
   "execution_count": 18,
   "metadata": {
    "collapsed": false
   },
   "outputs": [
    {
     "data": {
      "image/png": "[encoded data removed]",
      "text/plain": [
       "<matplotlib.figure.Figure at 0x1f346264b38>"
      ]
     },
     "metadata": {},
     "output_type": "display_data"
    }
   ],
   "source": [
    "plot = ut3.plot(kind='pie',title='Rede',autopct='%.1f',figsize=(6, 6))"
   ]
  },
  {
   "cell_type": "code",
   "execution_count": 19,
   "metadata": {
    "collapsed": false
   },
   "outputs": [
    {
     "data": {
      "image/png": "[encoded data removed]",
      "text/plain": [
       "<matplotlib.figure.Figure at 0x1f3462dcc88>"
      ]
     },
     "metadata": {},
     "output_type": "display_data"
    }
   ],
   "source": [
    "plot = ut4.plot(kind='pie',title='Nível',autopct='%.1f',figsize=(6, 6))"
   ]
  },
  {
   "cell_type": "code",
   "execution_count": 20,
   "metadata": {
    "collapsed": false
   },
   "outputs": [
    {
     "data": {
      "image/png": "[encoded data removed]",
      "text/plain": [
       "<matplotlib.figure.Figure at 0x1f346339048>"
      ]
     },
     "metadata": {},
     "output_type": "display_data"
    }
   ],
   "source": [
    "plot = ut5.plot(kind='pie',title='UF',autopct='%.1f',figsize=(6, 6))"
   ]
  },
  {
   "cell_type": "code",
   "execution_count": 21,
   "metadata": {
    "collapsed": false
   },
   "outputs": [
    {
     "data": {
      "image/png": "[encoded data removed]",
      "text/plain": [
       "<matplotlib.figure.Figure at 0x1f346312b70>"
      ]
     },
     "metadata": {},
     "output_type": "display_data"
    }
   ],
   "source": [
    "plot = ut6.plot(kind='pie',title='Ler',autopct='%.1f',figsize=(6, 6))"
   ]
  },
  {
   "cell_type": "code",
   "execution_count": 22,
   "metadata": {
    "collapsed": false
   },
   "outputs": [
    {
     "data": {
      "image/png": "[encoded data removed]",
      "text/plain": [
       "<matplotlib.figure.Figure at 0x1f346164c18>"
      ]
     },
     "metadata": {},
     "output_type": "display_data"
    }
   ],
   "source": [
    "plot = ut7.plot(kind='pie',title='Curso',autopct='%.1f',figsize=(6, 6))"
   ]
  },
  {
   "cell_type": "markdown",
   "metadata": {},
   "source": [
    ">>>Tabela cruzada entre variáveis qualitativas"
   ]
  },
  {
   "cell_type": "code",
   "execution_count": 23,
   "metadata": {
    "collapsed": false
   },
   "outputs": [
    {
     "name": "stdout",
     "output_type": "stream",
     "text": [
      "Tabela Cruzada por total GERAL:\n"
     ]
    },
    {
     "data": {
      "text/html": [
       "<div>\n",
       "<table border=\"1\" class=\"dataframe\">\n",
       "  <thead>\n",
       "    <tr style=\"text-align: right;\">\n",
       "      <th>Ler</th>\n",
       "      <th>Sim</th>\n",
       "      <th>Não</th>\n",
       "      <th>All</th>\n",
       "    </tr>\n",
       "    <tr>\n",
       "      <th>Regiões</th>\n",
       "      <th></th>\n",
       "      <th></th>\n",
       "      <th></th>\n",
       "    </tr>\n",
       "  </thead>\n",
       "  <tbody>\n",
       "    <tr>\n",
       "      <th>Norte</th>\n",
       "      <td>48141</td>\n",
       "      <td>11046</td>\n",
       "      <td>59187</td>\n",
       "    </tr>\n",
       "    <tr>\n",
       "      <th>Nordeste</th>\n",
       "      <td>82077</td>\n",
       "      <td>22520</td>\n",
       "      <td>104597</td>\n",
       "    </tr>\n",
       "    <tr>\n",
       "      <th>Sudeste</th>\n",
       "      <td>92905</td>\n",
       "      <td>12223</td>\n",
       "      <td>105128</td>\n",
       "    </tr>\n",
       "    <tr>\n",
       "      <th>Sul</th>\n",
       "      <td>49877</td>\n",
       "      <td>6239</td>\n",
       "      <td>56116</td>\n",
       "    </tr>\n",
       "    <tr>\n",
       "      <th>Centro-Oeste</th>\n",
       "      <td>32409</td>\n",
       "      <td>5118</td>\n",
       "      <td>37527</td>\n",
       "    </tr>\n",
       "  </tbody>\n",
       "</table>\n",
       "</div>"
      ],
      "text/plain": [
       "Ler             Sim    Não     All\n",
       "Regiões                           \n",
       "Norte         48141  11046   59187\n",
       "Nordeste      82077  22520  104597\n",
       "Sudeste       92905  12223  105128\n",
       "Sul           49877   6239   56116\n",
       "Centro-Oeste  32409   5118   37527"
      ]
     },
     "execution_count": 23,
     "metadata": {},
     "output_type": "execute_result"
    }
   ],
   "source": [
    "#Tabela cruzada Estado Região x Ler\n",
    "\n",
    "print('Tabela Cruzada por total GERAL:')\n",
    "ct=pd.crosstab(dados.Reg,dados.Ler,margins=True,rownames=['Regiões'], colnames=['Ler'])\n",
    "ct=ct.loc[['Norte', 'Nordeste', 'Sudeste','Sul', 'Centro-Oeste',]]\n",
    "ct"
   ]
  },
  {
   "cell_type": "code",
   "execution_count": 24,
   "metadata": {
    "collapsed": false
   },
   "outputs": [
    {
     "name": "stdout",
     "output_type": "stream",
     "text": [
      "Tabela Cruzada por total GERAL (em %):\n"
     ]
    },
    {
     "data": {
      "text/html": [
       "<div>\n",
       "<table border=\"1\" class=\"dataframe\">\n",
       "  <thead>\n",
       "    <tr style=\"text-align: right;\">\n",
       "      <th>Ler</th>\n",
       "      <th>Sim</th>\n",
       "      <th>Não</th>\n",
       "      <th>All</th>\n",
       "    </tr>\n",
       "    <tr>\n",
       "      <th>Regiões</th>\n",
       "      <th></th>\n",
       "      <th></th>\n",
       "      <th></th>\n",
       "    </tr>\n",
       "  </thead>\n",
       "  <tbody>\n",
       "    <tr>\n",
       "      <th>Norte</th>\n",
       "      <td>13.0</td>\n",
       "      <td>3.0</td>\n",
       "      <td>16.0</td>\n",
       "    </tr>\n",
       "    <tr>\n",
       "      <th>Nordeste</th>\n",
       "      <td>23.0</td>\n",
       "      <td>6.0</td>\n",
       "      <td>29.0</td>\n",
       "    </tr>\n",
       "    <tr>\n",
       "      <th>Sudeste</th>\n",
       "      <td>26.0</td>\n",
       "      <td>3.0</td>\n",
       "      <td>29.0</td>\n",
       "    </tr>\n",
       "    <tr>\n",
       "      <th>Sul</th>\n",
       "      <td>14.0</td>\n",
       "      <td>2.0</td>\n",
       "      <td>15.0</td>\n",
       "    </tr>\n",
       "    <tr>\n",
       "      <th>Centro-Oeste</th>\n",
       "      <td>9.0</td>\n",
       "      <td>1.0</td>\n",
       "      <td>10.0</td>\n",
       "    </tr>\n",
       "  </tbody>\n",
       "</table>\n",
       "</div>"
      ],
      "text/plain": [
       "Ler            Sim  Não   All\n",
       "Regiões                      \n",
       "Norte         13.0  3.0  16.0\n",
       "Nordeste      23.0  6.0  29.0\n",
       "Sudeste       26.0  3.0  29.0\n",
       "Sul           14.0  2.0  15.0\n",
       "Centro-Oeste   9.0  1.0  10.0"
      ]
     },
     "execution_count": 24,
     "metadata": {},
     "output_type": "execute_result"
    }
   ],
   "source": [
    "print('Tabela Cruzada por total GERAL (em %):')\n",
    "ct=(ct/len(dados)*100).round(decimals=0)\n",
    "ct"
   ]
  },
  {
   "cell_type": "code",
   "execution_count": 25,
   "metadata": {
    "collapsed": false
   },
   "outputs": [
    {
     "data": {
      "text/plain": [
       "<matplotlib.text.Text at 0x1f3464184e0>"
      ]
     },
     "execution_count": 25,
     "metadata": {},
     "output_type": "execute_result"
    },
    {
     "data": {
      "image/png": "[encoded data removed]",
      "text/plain": [
       "<matplotlib.figure.Figure at 0x1f3463ecf60>"
      ]
     },
     "metadata": {},
     "output_type": "display_data"
    }
   ],
   "source": [
    "ct=pd.crosstab(dados.Reg,dados.Ler,rownames=['Regiões'], colnames=['Ler'])\n",
    "ct=ct.loc[['Norte', 'Nordeste', 'Sudeste','Sul', 'Centro-Oeste',]]\n",
    "ct = (ct/len(dados)*100).round(decimals=0)\n",
    "plot = ct.plot(kind='bar', title= 'Região')\n",
    "plt.ylabel('Freq.Relativa (em%)')"
   ]
  },
  {
   "cell_type": "code",
   "execution_count": 26,
   "metadata": {
    "collapsed": false
   },
   "outputs": [
    {
     "name": "stdout",
     "output_type": "stream",
     "text": [
      "Tabela Cruzada por total GERAL:\n"
     ]
    },
    {
     "data": {
      "text/html": [
       "<div>\n",
       "<table border=\"1\" class=\"dataframe\">\n",
       "  <thead>\n",
       "    <tr style=\"text-align: right;\">\n",
       "      <th>Rede de ensino</th>\n",
       "      <th>Pública</th>\n",
       "      <th>Privada</th>\n",
       "      <th>All</th>\n",
       "    </tr>\n",
       "    <tr>\n",
       "      <th>Regiões</th>\n",
       "      <th></th>\n",
       "      <th></th>\n",
       "      <th></th>\n",
       "    </tr>\n",
       "  </thead>\n",
       "  <tbody>\n",
       "    <tr>\n",
       "      <th>Norte</th>\n",
       "      <td>19460</td>\n",
       "      <td>39727</td>\n",
       "      <td>59187</td>\n",
       "    </tr>\n",
       "    <tr>\n",
       "      <th>Nordeste</th>\n",
       "      <td>31348</td>\n",
       "      <td>73249</td>\n",
       "      <td>104597</td>\n",
       "    </tr>\n",
       "    <tr>\n",
       "      <th>Sudeste</th>\n",
       "      <td>27205</td>\n",
       "      <td>77923</td>\n",
       "      <td>105128</td>\n",
       "    </tr>\n",
       "    <tr>\n",
       "      <th>Sul</th>\n",
       "      <td>14433</td>\n",
       "      <td>41683</td>\n",
       "      <td>56116</td>\n",
       "    </tr>\n",
       "    <tr>\n",
       "      <th>Centro-Oeste</th>\n",
       "      <td>10698</td>\n",
       "      <td>26829</td>\n",
       "      <td>37527</td>\n",
       "    </tr>\n",
       "  </tbody>\n",
       "</table>\n",
       "</div>"
      ],
      "text/plain": [
       "Rede de ensino  Pública  Privada     All\n",
       "Regiões                                 \n",
       "Norte             19460    39727   59187\n",
       "Nordeste          31348    73249  104597\n",
       "Sudeste           27205    77923  105128\n",
       "Sul               14433    41683   56116\n",
       "Centro-Oeste      10698    26829   37527"
      ]
     },
     "execution_count": 26,
     "metadata": {},
     "output_type": "execute_result"
    }
   ],
   "source": [
    "#Tabela cruzada Região x Rede de ensino\n",
    "\n",
    "print('Tabela Cruzada por total GERAL:')\n",
    "ct=pd.crosstab(dados.Reg,dados.Rede,margins=True,rownames=['Regiões'], colnames=['Rede de ensino'])\n",
    "ct=ct.loc[['Norte', 'Nordeste', 'Sudeste','Sul', 'Centro-Oeste',]]\n",
    "ct"
   ]
  },
  {
   "cell_type": "code",
   "execution_count": 27,
   "metadata": {
    "collapsed": false
   },
   "outputs": [
    {
     "name": "stdout",
     "output_type": "stream",
     "text": [
      "Tabela Cruzada por total GERAL (em %):\n"
     ]
    },
    {
     "data": {
      "text/html": [
       "<div>\n",
       "<table border=\"1\" class=\"dataframe\">\n",
       "  <thead>\n",
       "    <tr style=\"text-align: right;\">\n",
       "      <th>Rede de ensino</th>\n",
       "      <th>Pública</th>\n",
       "      <th>Privada</th>\n",
       "      <th>All</th>\n",
       "    </tr>\n",
       "    <tr>\n",
       "      <th>Regiões</th>\n",
       "      <th></th>\n",
       "      <th></th>\n",
       "      <th></th>\n",
       "    </tr>\n",
       "  </thead>\n",
       "  <tbody>\n",
       "    <tr>\n",
       "      <th>Norte</th>\n",
       "      <td>5.0</td>\n",
       "      <td>11.0</td>\n",
       "      <td>16.0</td>\n",
       "    </tr>\n",
       "    <tr>\n",
       "      <th>Nordeste</th>\n",
       "      <td>9.0</td>\n",
       "      <td>20.0</td>\n",
       "      <td>29.0</td>\n",
       "    </tr>\n",
       "    <tr>\n",
       "      <th>Sudeste</th>\n",
       "      <td>8.0</td>\n",
       "      <td>21.0</td>\n",
       "      <td>29.0</td>\n",
       "    </tr>\n",
       "    <tr>\n",
       "      <th>Sul</th>\n",
       "      <td>4.0</td>\n",
       "      <td>11.0</td>\n",
       "      <td>15.0</td>\n",
       "    </tr>\n",
       "    <tr>\n",
       "      <th>Centro-Oeste</th>\n",
       "      <td>3.0</td>\n",
       "      <td>7.0</td>\n",
       "      <td>10.0</td>\n",
       "    </tr>\n",
       "  </tbody>\n",
       "</table>\n",
       "</div>"
      ],
      "text/plain": [
       "Rede de ensino  Pública  Privada   All\n",
       "Regiões                               \n",
       "Norte               5.0     11.0  16.0\n",
       "Nordeste            9.0     20.0  29.0\n",
       "Sudeste             8.0     21.0  29.0\n",
       "Sul                 4.0     11.0  15.0\n",
       "Centro-Oeste        3.0      7.0  10.0"
      ]
     },
     "execution_count": 27,
     "metadata": {},
     "output_type": "execute_result"
    }
   ],
   "source": [
    "print('Tabela Cruzada por total GERAL (em %):')\n",
    "ct1=(ct/len(dados)*100).round(decimals=0)\n",
    "ct1"
   ]
  },
  {
   "cell_type": "code",
   "execution_count": 28,
   "metadata": {
    "collapsed": false
   },
   "outputs": [
    {
     "data": {
      "image/png": "[encoded data removed]",
      "text/plain": [
       "<matplotlib.figure.Figure at 0x1f34628d240>"
      ]
     },
     "metadata": {},
     "output_type": "display_data"
    }
   ],
   "source": [
    "ct=pd.crosstab(dados.Reg,dados.Rede,margins=True,rownames=['Regiões'], colnames=['Rede de ensino'])\n",
    "ct=ct.loc[['Norte', 'Nordeste', 'Sudeste','Sul', 'Centro-Oeste',]]\n",
    "ct = (ct/len(dados)*100).round(decimals=0)\n",
    "plot = ct.plot(kind='bar', title= 'Região')\n"
   ]
  },
  {
   "cell_type": "code",
   "execution_count": 29,
   "metadata": {
    "collapsed": false
   },
   "outputs": [
    {
     "data": {
      "image/png": "[encoded data removed]",
      "text/plain": [
       "<matplotlib.figure.Figure at 0x1f346513dd8>"
      ]
     },
     "metadata": {},
     "output_type": "display_data"
    }
   ],
   "source": [
    "ct=pd.crosstab(dados.Reg,dados.Curso,rownames=['Regiões'], colnames=['Nível de ensino'])\n",
    "ct=ct.loc[['Norte', 'Nordeste', 'Sudeste','Sul', 'Centro-Oeste']]\n",
    "ct = (ct/len(dados)*100).round(decimals=0)\n",
    "plot = ct.plot(kind='bar',legend = False, figsize=(12,8))\n"
   ]
  },
  {
   "cell_type": "markdown",
   "metadata": {},
   "source": [
    "![Legenda_1](Legenda_1.png)"
   ]
  },
  {
   "cell_type": "markdown",
   "metadata": {},
   "source": [
    "Dados quantitativos"
   ]
  },
  {
   "cell_type": "code",
   "execution_count": 30,
   "metadata": {
    "collapsed": false
   },
   "outputs": [
    {
     "data": {
      "text/plain": [
       "count    362555.000000\n",
       "mean         33.049813\n",
       "std          20.870874\n",
       "min           0.000000\n",
       "25%          16.000000\n",
       "50%          31.000000\n",
       "75%          48.000000\n",
       "max         109.000000\n",
       "Name: Idade, dtype: float64"
      ]
     },
     "execution_count": 30,
     "metadata": {},
     "output_type": "execute_result"
    }
   ],
   "source": [
    "dados.Idade.describe()"
   ]
  },
  {
   "cell_type": "code",
   "execution_count": 31,
   "metadata": {
    "collapsed": false
   },
   "outputs": [
    {
     "data": {
      "text/plain": [
       "(10, 20]      17.385776\n",
       "(20, 30]      15.942133\n",
       "(30, 40]      15.589083\n",
       "(0, 10]       14.580408\n",
       "(40, 50]      13.234130\n",
       "(50, 60]      10.445036\n",
       "(60, 70]       6.572244\n",
       "(70, 80]       3.516708\n",
       "(80, 90]       1.252775\n",
       "(90, 100]      0.190868\n",
       "(100, 110]     0.011309\n",
       "dtype: float64"
      ]
     },
     "execution_count": 31,
     "metadata": {},
     "output_type": "execute_result"
    }
   ],
   "source": [
    "faixa=arange(0,  120, 10)\n",
    "a = pd.cut(dados.Idade, faixa).value_counts(True)*100\n",
    "a"
   ]
  },
  {
   "cell_type": "code",
   "execution_count": 32,
   "metadata": {
    "collapsed": false
   },
   "outputs": [
    {
     "data": {
      "text/plain": [
       "<matplotlib.axes._subplots.AxesSubplot at 0x1f346498eb8>"
      ]
     },
     "execution_count": 32,
     "metadata": {},
     "output_type": "execute_result"
    },
    {
     "data": {
      "image/png": "[encoded data removed]",
      "text/plain": [
       "<matplotlib.figure.Figure at 0x1f346269dd8>"
      ]
     },
     "metadata": {},
     "output_type": "display_data"
    }
   ],
   "source": [
    "dados.Idade.plot(kind='box')"
   ]
  },
  {
   "cell_type": "code",
   "execution_count": 33,
   "metadata": {
    "collapsed": false
   },
   "outputs": [
    {
     "data": {
      "text/plain": [
       "<matplotlib.axes._subplots.AxesSubplot at 0x1f34667de80>"
      ]
     },
     "execution_count": 33,
     "metadata": {},
     "output_type": "execute_result"
    },
    {
     "data": {
      "image/png": "[encoded data removed]",
      "text/plain": [
       "<matplotlib.figure.Figure at 0x1f3468091d0>"
      ]
     },
     "metadata": {},
     "output_type": "display_data"
    }
   ],
   "source": [
    "dados.Idade.plot.hist(bins=faixa)"
   ]
  },
  {
   "cell_type": "code",
   "execution_count": 34,
   "metadata": {
    "collapsed": false,
    "scrolled": false
   },
   "outputs": [
    {
     "name": "stdout",
     "output_type": "stream",
     "text": [
      "Idade          0     1     2     3     4     5     6     7     8     9   ...   \\\n",
      "Regiões                                                                  ...    \n",
      "Norte          915   918   985  1039  1042  1029  1109  1101  1184  1281 ...    \n",
      "Nordeste      1349  1372  1451  1547  1538  1543  1618  1688  1765  1796 ...    \n",
      "Sudeste       1224  1250  1234  1260  1344  1291  1403  1385  1482  1538 ...    \n",
      "Sul            650   649   651   734   680   691   684   739   750   821 ...    \n",
      "Centro-Oeste   501   517   470   539   506   511   580   546   583   553 ...    \n",
      "\n",
      "Idade         99   100  101  102  103  104  105  106  107  109  \n",
      "Regiões                                                         \n",
      "Norte           4    2    1    0    1    1    1    0    0    1  \n",
      "Nordeste        7    4    9    2    8    0    2    1    0    0  \n",
      "Sudeste         5    4    4    3    0    1    1    0    1    0  \n",
      "Sul             1    1    1    0    1    1    0    0    0    0  \n",
      "Centro-Oeste    0    2    0    1    0    0    0    0    0    0  \n",
      "\n",
      "[5 rows x 109 columns]\n"
     ]
    },
    {
     "data": {
      "text/plain": [
       "<matplotlib.axes._subplots.AxesSubplot at 0x1f346536470>"
      ]
     },
     "execution_count": 34,
     "metadata": {},
     "output_type": "execute_result"
    },
    {
     "data": {
      "image/png": "[encoded data removed]",
      "text/plain": [
       "<matplotlib.figure.Figure at 0x1f3461930b8>"
      ]
     },
     "metadata": {},
     "output_type": "display_data"
    }
   ],
   "source": [
    "ct=pd.crosstab(dados.Reg,dados.Idade,rownames=['Regiões'], colnames=['Idade'])\n",
    "print(ct)\n",
    "ct.plot(kind='bar', legend =False, figsize=(10,6))"
   ]
  },
  {
   "cell_type": "code",
   "execution_count": 37,
   "metadata": {
    "collapsed": false
   },
   "outputs": [
    {
     "data": {
      "text/html": [
       "<div>\n",
       "<table border=\"1\" class=\"dataframe\">\n",
       "  <thead>\n",
       "    <tr style=\"text-align: right;\">\n",
       "      <th></th>\n",
       "      <th>Idade</th>\n",
       "      <th>UF</th>\n",
       "      <th>Sexo</th>\n",
       "      <th>Cor</th>\n",
       "      <th>Rede</th>\n",
       "      <th>Nível</th>\n",
       "      <th>Ler</th>\n",
       "      <th>Curso</th>\n",
       "      <th>Renda</th>\n",
       "      <th>Reg</th>\n",
       "    </tr>\n",
       "  </thead>\n",
       "  <tbody>\n",
       "    <tr>\n",
       "      <th>1</th>\n",
       "      <td>42</td>\n",
       "      <td>11</td>\n",
       "      <td>Masculino</td>\n",
       "      <td>Preta</td>\n",
       "      <td>Privada</td>\n",
       "      <td>NaN</td>\n",
       "      <td>Sim</td>\n",
       "      <td>NaN</td>\n",
       "      <td>350.0</td>\n",
       "      <td>Norte</td>\n",
       "    </tr>\n",
       "    <tr>\n",
       "      <th>2</th>\n",
       "      <td>64</td>\n",
       "      <td>11</td>\n",
       "      <td>Masculino</td>\n",
       "      <td>Indígena</td>\n",
       "      <td>Privada</td>\n",
       "      <td>NaN</td>\n",
       "      <td>Não</td>\n",
       "      <td>NaN</td>\n",
       "      <td>339.0</td>\n",
       "      <td>Norte</td>\n",
       "    </tr>\n",
       "    <tr>\n",
       "      <th>3</th>\n",
       "      <td>13</td>\n",
       "      <td>11</td>\n",
       "      <td>Masculino</td>\n",
       "      <td>Amarela</td>\n",
       "      <td>Pública</td>\n",
       "      <td>8.0</td>\n",
       "      <td>Sim</td>\n",
       "      <td>Fundamental</td>\n",
       "      <td>339.0</td>\n",
       "      <td>Norte</td>\n",
       "    </tr>\n",
       "    <tr>\n",
       "      <th>4</th>\n",
       "      <td>23</td>\n",
       "      <td>11</td>\n",
       "      <td>Feminino</td>\n",
       "      <td>Indígena</td>\n",
       "      <td>Privada</td>\n",
       "      <td>NaN</td>\n",
       "      <td>Sim</td>\n",
       "      <td>NaN</td>\n",
       "      <td>266.0</td>\n",
       "      <td>Norte</td>\n",
       "    </tr>\n",
       "    <tr>\n",
       "      <th>5</th>\n",
       "      <td>19</td>\n",
       "      <td>11</td>\n",
       "      <td>Masculino</td>\n",
       "      <td>Indígena</td>\n",
       "      <td>Pública</td>\n",
       "      <td>11.0</td>\n",
       "      <td>Sim</td>\n",
       "      <td>Graduaçao</td>\n",
       "      <td>266.0</td>\n",
       "      <td>Norte</td>\n",
       "    </tr>\n",
       "  </tbody>\n",
       "</table>\n",
       "</div>"
      ],
      "text/plain": [
       "   Idade  UF       Sexo       Cor     Rede  Nível  Ler        Curso  Renda  \\\n",
       "1     42  11  Masculino     Preta  Privada    NaN  Sim          NaN  350.0   \n",
       "2     64  11  Masculino  Indígena  Privada    NaN  Não          NaN  339.0   \n",
       "3     13  11  Masculino   Amarela  Pública    8.0  Sim  Fundamental  339.0   \n",
       "4     23  11   Feminino  Indígena  Privada    NaN  Sim          NaN  266.0   \n",
       "5     19  11  Masculino  Indígena  Pública   11.0  Sim    Graduaçao  266.0   \n",
       "\n",
       "     Reg  \n",
       "1  Norte  \n",
       "2  Norte  \n",
       "3  Norte  \n",
       "4  Norte  \n",
       "5  Norte  "
      ]
     },
     "execution_count": 37,
     "metadata": {},
     "output_type": "execute_result"
    },
    {
     "name": "stdout",
     "output_type": "stream",
     "text": [
      "ERROR! Session/line number was not unique in database. History logging moved to new session 139\n"
     ]
    }
   ],
   "source": [
    "dados.head()"
   ]
  },
  {
   "cell_type": "code",
   "execution_count": 39,
   "metadata": {
    "collapsed": false,
    "scrolled": false
   },
   "outputs": [
    {
     "data": {
      "text/plain": [
       "<matplotlib.axes._subplots.AxesSubplot at 0x1f3c5fc9208>"
      ]
     },
     "execution_count": 39,
     "metadata": {},
     "output_type": "execute_result"
    },
    {
     "data": {
      "image/png": "[encoded data removed]",
      "text/plain": [
       "<matplotlib.figure.Figure at 0x1f30e238ef0>"
      ]
     },
     "metadata": {},
     "output_type": "display_data"
    }
   ],
   "source": [
    "a=pd.DataFrame([dados.Idade[dados.Reg=='Norte'],dados.Idade[dados.Reg=='Nordeste'],\n",
    "                  dados.Idade[dados.Reg=='Sudeste'], dados.Idade[dados.Reg=='Sul'],\n",
    "                  dados.Idade[dados.Reg=='Centro-Oeste']],index=('Norte', 'Nordeste', 'Sul', 'Sudeste', 'Centro-Oeste'))\n",
    "a=a.T\n",
    "a.plot.box()"
   ]
  },
  {
   "cell_type": "code",
   "execution_count": 40,
   "metadata": {
    "collapsed": true
   },
   "outputs": [],
   "source": [
    "dadosCut = dados[dados.Renda<10000]"
   ]
  },
  {
   "cell_type": "code",
   "execution_count": 41,
   "metadata": {
    "collapsed": false
   },
   "outputs": [
    {
     "data": {
      "text/plain": [
       "count    342539.000000\n",
       "mean        860.821699\n",
       "std        1049.419359\n",
       "min           0.000000\n",
       "25%         300.000000\n",
       "50%         559.000000\n",
       "75%        1000.000000\n",
       "max        9950.000000\n",
       "Name: Renda, dtype: float64"
      ]
     },
     "execution_count": 41,
     "metadata": {},
     "output_type": "execute_result"
    }
   ],
   "source": [
    "dadosCut.Renda.describe()"
   ]
  },
  {
   "cell_type": "code",
   "execution_count": 42,
   "metadata": {
    "collapsed": false
   },
   "outputs": [
    {
     "data": {
      "text/plain": [
       "(150, 300]      16.125755\n",
       "(300, 450]      14.700808\n",
       "(450, 600]      12.532879\n",
       "(600, 750]      11.797781\n",
       "(0, 150]         7.693139\n",
       "(750, 900]       7.007669\n",
       "(900, 1050]      5.552652\n",
       "(1050, 1200]     3.902913\n",
       "(1200, 1350]     2.929301\n",
       "(1350, 1500]     2.814278\n",
       "(1650, 1800]     1.573835\n",
       "(1500, 1650]     1.445675\n",
       "(1950, 2100]     1.246573\n",
       "(1800, 1950]     0.984413\n",
       "(2100, 2250]     0.755826\n",
       "(2400, 2550]     0.710284\n",
       "(2250, 2400]     0.631169\n",
       "(2850, 3000]     0.598764\n",
       "(2550, 2700]     0.492207\n",
       "(2700, 2850]     0.414843\n",
       "(3150, 3300]     0.324051\n",
       "(3450, 3600]     0.289310\n",
       "(3900, 4050]     0.287558\n",
       "(3300, 3450]     0.249023\n",
       "(3600, 3750]     0.229755\n",
       "(4950, 5100]     0.226835\n",
       "(3000, 3150]     0.225376\n",
       "(4350, 4500]     0.190927\n",
       "(3750, 3900]     0.178666\n",
       "(4200, 4350]     0.142757\n",
       "                  ...    \n",
       "(7950, 8100]     0.076196\n",
       "(6900, 7050]     0.075612\n",
       "(6450, 6600]     0.072401\n",
       "(4500, 4650]     0.068313\n",
       "(5550, 5700]     0.065978\n",
       "(4800, 4950]     0.062767\n",
       "(6600, 6750]     0.060723\n",
       "(5700, 5850]     0.053425\n",
       "(7350, 7500]     0.050505\n",
       "(6150, 6300]     0.049629\n",
       "(7650, 7800]     0.039120\n",
       "(8850, 9000]     0.038828\n",
       "(6300, 6450]     0.034449\n",
       "(8400, 8550]     0.032113\n",
       "(7200, 7350]     0.031821\n",
       "(6000, 6150]     0.030945\n",
       "(6750, 6900]     0.029194\n",
       "(8250, 8400]     0.028318\n",
       "(7050, 7200]     0.025982\n",
       "(8700, 8850]     0.023647\n",
       "(9450, 9600]     0.019268\n",
       "(8100, 8250]     0.017516\n",
       "(9150, 9300]     0.017224\n",
       "(9300, 9450]     0.016932\n",
       "(7500, 7650]     0.014889\n",
       "(9750, 9900]     0.011386\n",
       "(7800, 7950]     0.010218\n",
       "(8550, 8700]     0.010218\n",
       "(9600, 9750]     0.007590\n",
       "(9000, 9150]     0.006715\n",
       "dtype: float64"
      ]
     },
     "execution_count": 42,
     "metadata": {},
     "output_type": "execute_result"
    }
   ],
   "source": [
    "faixa=arange(0,  10000, 150)\n",
    "a = pd.cut(dadosCut.Renda, faixa).value_counts(True)*100\n",
    "a"
   ]
  },
  {
   "cell_type": "code",
   "execution_count": 43,
   "metadata": {
    "collapsed": false
   },
   "outputs": [
    {
     "data": {
      "text/plain": [
       "<matplotlib.axes._subplots.AxesSubplot at 0x1f3cf2a5b00>"
      ]
     },
     "execution_count": 43,
     "metadata": {},
     "output_type": "execute_result"
    },
    {
     "data": {
      "image/png": "[encoded data removed]",
      "text/plain": [
       "<matplotlib.figure.Figure at 0x1f3c5fc9780>"
      ]
     },
     "metadata": {},
     "output_type": "display_data"
    }
   ],
   "source": [
    "a.plot(kind='box')"
   ]
  },
  {
   "cell_type": "code",
   "execution_count": 44,
   "metadata": {
    "collapsed": false
   },
   "outputs": [
    {
     "data": {
      "text/plain": [
       "<matplotlib.axes._subplots.AxesSubplot at 0x1f3cf27f860>"
      ]
     },
     "execution_count": 44,
     "metadata": {},
     "output_type": "execute_result"
    },
    {
     "data": {
      "image/png": "[encoded data removed]",
      "text/plain": [
       "<matplotlib.figure.Figure at 0x1f34cd6f860>"
      ]
     },
     "metadata": {},
     "output_type": "display_data"
    }
   ],
   "source": [
    "dadosCut.Renda.plot.hist(bins=faixa)"
   ]
  },
  {
   "cell_type": "code",
   "execution_count": 44,
   "metadata": {
    "collapsed": false
   },
   "outputs": [
    {
     "name": "stdout",
     "output_type": "stream",
     "text": [
      "Idade         0.0     1.0     2.0     3.0     4.0     5.0     7.0     8.0     \\\n",
      "Regiões                                                                        \n",
      "Norte           1631       0       0       0       8       0       0      13   \n",
      "Nordeste        2130       0       0       4       0       0       6       8   \n",
      "Sudeste         1819       0       4       0       0       7       0       4   \n",
      "Sul              741       1       0       0       0       0       0       0   \n",
      "Centro-Oeste     628       0       0       0       0       0       0       0   \n",
      "\n",
      "Idade         9.0     10.0     ...    9820.0  9833.0  9839.0  9850.0  9853.0  \\\n",
      "Regiões                        ...                                             \n",
      "Norte              4      13   ...         0       0       0       0       0   \n",
      "Nordeste           0      14   ...         0       0       0       0       3   \n",
      "Sudeste            0      17   ...         2       3       0       4       0   \n",
      "Sul                0       6   ...         0       0       2       0       0   \n",
      "Centro-Oeste       0       6   ...         0       0       0       6       0   \n",
      "\n",
      "Idade         9880.0  9900.0  9910.0  9933.0  9950.0  \n",
      "Regiões                                               \n",
      "Norte              0       0       0       0       0  \n",
      "Nordeste           1       0       0       0       0  \n",
      "Sudeste            0       4       0       3       2  \n",
      "Sul                0       5       1       0       0  \n",
      "Centro-Oeste       0       0       0       0       0  \n",
      "\n",
      "[5 rows x 3627 columns]\n"
     ]
    },
    {
     "data": {
      "text/plain": [
       "<matplotlib.axes._subplots.AxesSubplot at 0x1f34cdcd198>"
      ]
     },
     "execution_count": 45,
     "metadata": {},
     "output_type": "execute_result"
    },
    {
     "ename": "KeyboardInterrupt",
     "evalue": "",
     "output_type": "error",
     "traceback": [
      "Traceback (most recent call last):\n",
      "  File \"C:\\Users\\Bruna\\Anaconda3\\lib\\site-packages\\ipykernel\\ipkernel.py\", line 199, in do_execute\n    shell.run_cell(code, store_history=store_history, silent=silent)\n",
      "  File \"C:\\Users\\Bruna\\Anaconda3\\lib\\site-packages\\IPython\\core\\interactiveshell.py\", line 2729, in run_cell\n    self.events.trigger('post_execute')\n",
      "  File \"C:\\Users\\Bruna\\Anaconda3\\lib\\site-packages\\IPython\\core\\events.py\", line 74, in trigger\n    func(*args, **kwargs)\n",
      "  File \"C:\\Users\\Bruna\\Anaconda3\\lib\\site-packages\\ipykernel\\pylab\\backend_inline.py\", line 113, in flush_figures\n    return show(True)\n",
      "  File \"C:\\Users\\Bruna\\Anaconda3\\lib\\site-packages\\ipykernel\\pylab\\backend_inline.py\", line 36, in show\n    display(figure_manager.canvas.figure)\n",
      "  File \"C:\\Users\\Bruna\\Anaconda3\\lib\\site-packages\\IPython\\core\\display.py\", line 158, in display\n    format_dict, md_dict = format(obj, include=include, exclude=exclude)\n",
      "  File \"C:\\Users\\Bruna\\Anaconda3\\lib\\site-packages\\IPython\\core\\formatters.py\", line 177, in format\n    data = formatter(obj)\n",
      "  File \"<decorator-gen-9>\", line 2, in __call__\n",
      "  File \"C:\\Users\\Bruna\\Anaconda3\\lib\\site-packages\\IPython\\core\\formatters.py\", line 222, in catch_format_error\n    r = method(self, *args, **kwargs)\n",
      "  File \"C:\\Users\\Bruna\\Anaconda3\\lib\\site-packages\\IPython\\core\\formatters.py\", line 339, in __call__\n    return printer(obj)\n",
      "  File \"C:\\Users\\Bruna\\Anaconda3\\lib\\site-packages\\IPython\\core\\pylabtools.py\", line 226, in <lambda>\n    png_formatter.for_type(Figure, lambda fig: print_figure(fig, 'png', **kwargs))\n",
      "  File \"C:\\Users\\Bruna\\Anaconda3\\lib\\site-packages\\IPython\\core\\pylabtools.py\", line 117, in print_figure\n    fig.canvas.print_figure(bytes_io, **kw)\n",
      "  File \"C:\\Users\\Bruna\\Anaconda3\\lib\\site-packages\\matplotlib\\backend_bases.py\", line 2180, in print_figure\n    **kwargs)\n",
      "  File \"C:\\Users\\Bruna\\Anaconda3\\lib\\site-packages\\matplotlib\\backends\\backend_agg.py\", line 527, in print_png\n    FigureCanvasAgg.draw(self)\n",
      "  File \"C:\\Users\\Bruna\\Anaconda3\\lib\\site-packages\\matplotlib\\backends\\backend_agg.py\", line 474, in draw\n    self.figure.draw(self.renderer)\n",
      "  File \"C:\\Users\\Bruna\\Anaconda3\\lib\\site-packages\\matplotlib\\artist.py\", line 61, in draw_wrapper\n    draw(artist, renderer, *args, **kwargs)\n",
      "  File \"C:\\Users\\Bruna\\Anaconda3\\lib\\site-packages\\matplotlib\\figure.py\", line 1159, in draw\n    func(*args)\n",
      "  File \"C:\\Users\\Bruna\\Anaconda3\\lib\\site-packages\\matplotlib\\artist.py\", line 61, in draw_wrapper\n    draw(artist, renderer, *args, **kwargs)\n",
      "  File \"C:\\Users\\Bruna\\Anaconda3\\lib\\site-packages\\matplotlib\\axes\\_base.py\", line 2324, in draw\n    a.draw(renderer)\n",
      "  File \"C:\\Users\\Bruna\\Anaconda3\\lib\\site-packages\\matplotlib\\artist.py\", line 61, in draw_wrapper\n    draw(artist, renderer, *args, **kwargs)\n",
      "  File \"C:\\Users\\Bruna\\Anaconda3\\lib\\site-packages\\matplotlib\\patches.py\", line 518, in draw\n    affine = transform.get_affine()\n",
      "  File \"C:\\Users\\Bruna\\Anaconda3\\lib\\site-packages\\matplotlib\\transforms.py\", line 2374, in get_affine\n    return Affine2D(np.dot(self._b.get_affine().get_matrix(),\n",
      "  File \"C:\\Users\\Bruna\\Anaconda3\\lib\\site-packages\\matplotlib\\transforms.py\", line 2374, in get_affine\n    return Affine2D(np.dot(self._b.get_affine().get_matrix(),\n",
      "  File \"C:\\Users\\Bruna\\Anaconda3\\lib\\site-packages\\matplotlib\\transforms.py\", line 2375, in get_affine\n    self._a.get_affine().get_matrix()))\n",
      "KeyboardInterrupt\n"
     ]
    }
   ],
   "source": [
    "ct=pd.crosstab(dados.Reg,dadosCut.Renda,rownames=['Regiões'], colnames=['Idade'])\n",
    "print(ct)\n",
    "ct.plot(kind='bar', legend =False, figsize=(10,6))"
   ]
  },
  {
   "cell_type": "markdown",
   "metadata": {},
   "source": [
    "gráfico de boxplot"
   ]
  },
  {
   "cell_type": "code",
   "execution_count": 45,
   "metadata": {
    "collapsed": false
   },
   "outputs": [
    {
     "name": "stdout",
     "output_type": "stream",
     "text": [
      "ERROR! Session/line number was not unique in database. History logging moved to new session 140\n"
     ]
    },
    {
     "data": {
      "text/plain": [
       "<matplotlib.axes._subplots.AxesSubplot at 0x1f34b480908>"
      ]
     },
     "execution_count": 45,
     "metadata": {},
     "output_type": "execute_result"
    },
    {
     "data": {
      "image/png": "[encoded data removed]",
      "text/plain": [
       "<matplotlib.figure.Figure at 0x1f348915a20>"
      ]
     },
     "metadata": {},
     "output_type": "display_data"
    }
   ],
   "source": [
    "a=pd.DataFrame([dadosCut.Renda[dados.Reg=='Norte'],dadosCut.Renda[dados.Reg=='Nordeste'],\n",
    "                  dadosCut.Renda[dados.Reg=='Sul'], dadosCut.Renda[dados.Reg=='Sudeste'],\n",
    "                  dadosCut.Renda[dados.Reg=='Centro-Oeste']],index=('Norte', 'Nordeste', 'Sul', 'Suldeste', 'Centro-Oeste'))\n",
    "a=a.T\n",
    "a.plot(kind='box')"
   ]
  },
  {
   "cell_type": "code",
   "execution_count": null,
   "metadata": {
    "collapsed": true
   },
   "outputs": [],
   "source": []
  }
 ],
 "metadata": {
  "anaconda-cloud": {},
  "kernelspec": {
   "display_name": "Python 3",
   "language": "python",
   "name": "python3"
  },
  "language_info": {
   "codemirror_mode": {
    "name": "ipython",
    "version": 3
   },
   "file_extension": ".py",
   "mimetype": "text/x-python",
   "name": "python",
   "nbconvert_exporter": "python",
   "pygments_lexer": "ipython3",
   "version": "3.5.2"
  }
 },
 "nbformat": 4,
 "nbformat_minor": 0
}
