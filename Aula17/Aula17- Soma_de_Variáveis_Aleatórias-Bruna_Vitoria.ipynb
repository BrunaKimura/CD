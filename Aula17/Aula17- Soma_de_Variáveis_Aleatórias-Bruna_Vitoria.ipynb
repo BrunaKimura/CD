{
 "cells": [
  {
   "cell_type": "markdown",
   "metadata": {},
   "source": [
    "___\n",
    "# Atividade: Soma de variáveis aleatórias \n",
    "___\n",
    "\n",
    "## Aula 17\n",
    "\n",
    "**Preparo Prévio:**\n",
    "1. Seção 5.1 – págs 137 a 140: aborda como fazer uma distribuição de probabilidade conjunta entre duas variáveis aleatórias X e Y e define função de probabilidade conjunta.\n",
    "2. Seção 5.2 – págs 146 a 149; págs 156 e 157 (Exemplo 5.12) e págs 158 a 162 (Exemplo 5.13): aborda propriedades de esperança e variância em soma de variáveis aleatórias (X+Y). \n",
    "\n",
    "**Hoje:**\n",
    "1. Descrever as propriedades de distribuição conjunta entre duas variáveis aleatórias discretas.\n",
    "2. Compreender correlação entre variáveis aleatórias.\n",
    "3. Descrever as propriedades de esperança e variância para soma de variáveis aleatórias (discretas e contínuas).\n",
    "\n",
    "\n",
    "**Próxima aula:**\n",
    "1.\tLeitura prévia necessária: Magalhães e Lima (7ª. Edição): Seção 7.3 (págs 234 a 240).\n",
    "___"
   ]
  },
  {
   "cell_type": "code",
   "execution_count": 6,
   "metadata": {
    "collapsed": false
   },
   "outputs": [],
   "source": [
    "%matplotlib inline\n",
    "\n",
    "import os\n",
    "import matplotlib.pyplot as plt\n",
    "import pandas as pd\n",
    "import numpy as np\n",
    "from scipy import stats\n"
   ]
  },
  {
   "cell_type": "markdown",
   "metadata": {},
   "source": [
    "___\n",
    "## <font color='blue'>Exercício 1 - Exemplo 3 da Aula 17 </font>\n",
    "\n",
    "Num determinado momento em um certo país, a taxa de juros ($X$) pode variar 0,25 pontos percentuais (pp), para cima ou para baixo, ou manter-se constante. \n",
    "Já a taxa de câmbio ($Y$) pode variar para mais ou para menos em 1 pp, ou manter-se constante.\n",
    "A tabela seguinte reflete as distribuições marginais e conjunta dessas duas taxas representadas, aqui, por $X$ e $Y$. \n",
    "\n",
    "![Tabela](XeY.png)\n",
    "\n",
    "Um investidor aplica a mesma quantia num fundo que acompanha a variação da taxa de juros ($X$) e num fundo que acompanha a variação cambial ($Y$). Ao final do dia ele resgatará seu investimento.\n",
    "1. Encontre a $E(X)$, $Var(X)$, $E(Y)$, $Var(Y)$, $Cov(X,Y)$ e $Corr(X,Y)$.\n",
    "2. Construa a distribuição de probabilidades do ganho (em variação %) desse investidor, ou seja, encontre todos os valores de $G=0.5*X+0.5*Y$, sendo $G$ o ganho do investidor aplicando metade do dinheiro em $X$ e metade do dinheiro em $Y$. \n",
    "3. Calcule esperança e variância de $G$ utilizando a distribuição de probabilidade, ou seja, $E(G)$ e $Var(G)$.\n",
    "4. Calcule esperança e variância de $G$ utilizando propriedades de esperança e variância da soma de variáveis aleatórias.\n"
   ]
  },
  {
   "cell_type": "code",
   "execution_count": 7,
   "metadata": {
    "collapsed": false
   },
   "outputs": [
    {
     "name": "stdout",
     "output_type": "stream",
     "text": [
      "[[0.05, 0.07, 0.26], [0.075, 0.21, 0.12], [0.125, 0.07, 0.02]]\n"
     ]
    }
   ],
   "source": [
    "#Valores da tabela\n",
    "y=[-1,0,1] #colunas\n",
    "x=[-0.25,0,0.25] #linhas\n",
    "probXY=[[[] for i in range(3)] for i in range(3)]\n",
    "pxy=[0.05,0.07,0.26,0.075,0.21,0.12,0.125,0.07,0.02]\n",
    "k=0\n",
    "for i in range(3):\n",
    "    for j in range(3):\n",
    "        probXY[i][j]=pxy[k]\n",
    "        k+=1\n",
    "print(probXY)"
   ]
  },
  {
   "cell_type": "code",
   "execution_count": 8,
   "metadata": {
    "collapsed": false,
    "scrolled": true
   },
   "outputs": [
    {
     "name": "stdout",
     "output_type": "stream",
     "text": [
      "Probabilidade de X= -0.25  é igual a  0.38\n",
      "Probabilidade de X= 0  é igual a  0.40499999999999997\n",
      "Probabilidade de X= 0.25  é igual a  0.215\n",
      "Esperança de X= -0.04125\n",
      "Variância de X= 0.0354859375\n"
     ]
    }
   ],
   "source": [
    "#item 1 \n",
    "#Distribuição de X\n",
    "probX=[0,0,0]\n",
    "for i in range(3):\n",
    "    for j in range(3):\n",
    "        probX[i]+=probXY[i][j]\n",
    "for i in range(3):\n",
    "    print(\"Probabilidade de X=\",x[i],\" é igual a \", probX[i])\n",
    "\n",
    "espX=0\n",
    "varX=0\n",
    "for i in range(3):\n",
    "    espX+=x[i]*probX[i]\n",
    "for i in range(3):\n",
    "    varX+=(x[i]-espX)**2*probX[i]\n",
    "print(\"Esperança de X=\",espX)\n",
    "print(\"Variância de X=\",varX)\n"
   ]
  },
  {
   "cell_type": "code",
   "execution_count": 9,
   "metadata": {
    "collapsed": false
   },
   "outputs": [
    {
     "name": "stdout",
     "output_type": "stream",
     "text": [
      "Probabilidade de Y= -1  é igual a  0.25\n",
      "Probabilidade de Y= 0  é igual a  0.35000000000000003\n",
      "Probabilidade de Y= 1  é igual a  0.4\n",
      "Esperança de Y= 0.15000000000000002\n",
      "Variância de Y= 0.6275\n"
     ]
    }
   ],
   "source": [
    "#item 1 \n",
    "#Distribuição de Y\n",
    "probY=[0,0,0]\n",
    "for i in range(3):\n",
    "    for j in range(3):\n",
    "        probY[j]+=probXY[i][j]\n",
    "for i in range(3):\n",
    "    print(\"Probabilidade de Y=\",y[i],\" é igual a \", probY[i])\n",
    "\n",
    "espY=0\n",
    "varY=0\n",
    "for i in range(3):\n",
    "    espY+=y[i]*probY[i]\n",
    "for i in range(3):\n",
    "    varY+=(y[i]-espY)**2*probY[i]\n",
    "print(\"Esperança de Y=\",espY)\n",
    "print(\"Variância de Y=\",varY)\n"
   ]
  },
  {
   "cell_type": "code",
   "execution_count": 10,
   "metadata": {
    "collapsed": false
   },
   "outputs": [
    {
     "name": "stdout",
     "output_type": "stream",
     "text": [
      "Covariância entre X e Y= -0.07256249999999999\n",
      "Correlação entre X e Y= -0.4862697238590869\n"
     ]
    }
   ],
   "source": [
    "#item 1\n",
    "#Covariância e Correlação\n",
    "cov=0\n",
    "for i in range(3):\n",
    "    for j in range(3):\n",
    "        cov+=(x[i]-espX)*(y[j]-espY)*probXY[i][j]\n",
    "\n",
    "corr=cov/(varX*varY)**(0.5)\n",
    "print(\"Covariância entre X e Y=\", cov)\n",
    "print(\"Correlação entre X e Y=\", corr)\n"
   ]
  },
  {
   "cell_type": "code",
   "execution_count": 11,
   "metadata": {
    "collapsed": false
   },
   "outputs": [
    {
     "name": "stdout",
     "output_type": "stream",
     "text": [
      "Probabilidade de G= -0.625  é igual a  0.05\n",
      "Probabilidade de G= -0.125  é igual a  0.07\n",
      "Probabilidade de G= 0.375  é igual a  0.26\n",
      "Probabilidade de G= -0.5  é igual a  0.075\n",
      "Probabilidade de G= 0.0  é igual a  0.21\n",
      "Probabilidade de G= 0.5  é igual a  0.12\n",
      "Probabilidade de G= -0.375  é igual a  0.125\n",
      "Probabilidade de G= 0.125  é igual a  0.07\n",
      "Probabilidade de G= 0.625  é igual a  0.02\n"
     ]
    }
   ],
   "source": [
    "#item 2\n",
    "#Distribuição do G=0.5*X +0.5*Y\n",
    "g=[]\n",
    "probG=[]\n",
    "for i in range(3):\n",
    "    for j in range(3):\n",
    "        a = 0.5*x[i]+0.5*y[j]\n",
    "        if a in g:\n",
    "            probG[g.index(a)] += probX[i][j]\n",
    "        else:\n",
    "            g.append(a)         \n",
    "            probG.append(probXY[i][j])\n",
    "\n",
    "for i in range(len(g)):\n",
    "    print(\"Probabilidade de G=\",g[i],\" é igual a \", probG[i])\n"
   ]
  },
  {
   "cell_type": "code",
   "execution_count": 12,
   "metadata": {
    "collapsed": false
   },
   "outputs": [
    {
     "name": "stdout",
     "output_type": "stream",
     "text": [
      "-0.03125\n",
      "-0.00875\n",
      "0.0975\n",
      "-0.0375\n",
      "0.0\n",
      "0.06\n",
      "-0.046875\n",
      "0.00875\n",
      "0.0125\n",
      "Esperança e variância de G usando distribuição de probabilidade de G:\n",
      "Esperança de G= 0.05437500000000001\n",
      "Variância de G= 0.12946523437500002\n"
     ]
    }
   ],
   "source": [
    "#item 3\n",
    "#Esperança e variância de G\n",
    "espG=0\n",
    "varG=0\n",
    "for i in range(len(g)):\n",
    "    a=g[i]*probG[i]\n",
    "    print(a)\n",
    "    espG+=a\n",
    "for i in range(len(g)):\n",
    "    varG+=(g[i]-espG)**2*probG[i]\n",
    "\n",
    "print(\"Esperança e variância de G usando distribuição de probabilidade de G:\")\n",
    "print(\"Esperança de G=\",espG)\n",
    "print(\"Variância de G=\",varG)"
   ]
  },
  {
   "cell_type": "code",
   "execution_count": 13,
   "metadata": {
    "collapsed": false
   },
   "outputs": [
    {
     "name": "stdout",
     "output_type": "stream",
     "text": [
      "Esperança e variância de G usando propriedades:\n",
      "Esperança de G= 0.05437500000000001\n",
      "Variância de G= 0.129465234375\n"
     ]
    }
   ],
   "source": [
    "#item 4\n",
    "#Esperança e variância de G usando propriedades de soma de variáveis aleatórias\n",
    "\n",
    "#G=0.5X + 0.5Y\n",
    "#G=0.5*(X+Y)\n",
    "\n",
    "espGp = 0.5*(espX+espY)\n",
    "varGp = 0.5**2*(varX+varY+2*cov)\n",
    "\n",
    "print(\"Esperança e variância de G usando propriedades:\")\n",
    "print(\"Esperança de G=\",espGp)\n",
    "print(\"Variância de G=\",varGp)\n"
   ]
  },
  {
   "cell_type": "markdown",
   "metadata": {
    "collapsed": true
   },
   "source": [
    "___\n",
    "## <font color='blue'>Exercício 2 - Soma de normais correlacionadas</font>\n",
    "\n",
    "Um pacote com mil peças de resistor de carbono 1/8w tem o preço distribuído como uma normal com média 21 reais e desvio padrão de 2 reais, ou seja, $X$~$N(21;4)$.\n",
    "\n",
    "Já jumpers/fios macho-fêmea com 40 unidades de 20 cm tem o preço distribuído como uma normal com média 18,90 reais e desvio padrão de 1,50 reais, ou seja, $Y$~$N(18,90;2,25)$.\n",
    "\n",
    "Assuma que a correlação entre esses dois preços seja de 0,85.\n",
    "\n",
    "1. Simule $n=100$, $n=1.000$ e $n=10.000$ de cada variáveis aleatória respeitando a correlação entre elas. Para tanto, consulte o comando `np.random.multivariate_normal(mean, cov, n)`. \n",
    "2. Se você vai passear na Santa Efigênia para comprar um pacote de cada um, calcule a esperança e a variância do gasto $G=X+Y$ com a compra de uma pacotinho de resistores e um jumper nas especificações acima descritos. \n",
    "3. Calcule esperança e variância de $G$ utilizando propriedades de esperança e variância da soma de variáveis aleatórias.\n",
    "4. Construa a distribuição do gasto e verifique se o gasto se assemelha a distribuição normal.\n",
    "5. Repita assumindo correlação igual a zero entre X e Y.\n"
   ]
  },
  {
   "cell_type": "code",
   "execution_count": 14,
   "metadata": {
    "collapsed": false
   },
   "outputs": [],
   "source": [
    "#Informações do enunciado\n",
    "muX = 21\n",
    "varX = 4\n",
    "muY = 18.90\n",
    "varY = 2.25\n",
    "corXY = 0.95\n",
    "covXY = corXY*(varX*varY)**(0.5)\n",
    "mean = [muX, muY]\n",
    "cov = [[varX, covXY], [covXY, varY]]  # diagonal covariance"
   ]
  },
  {
   "cell_type": "code",
   "execution_count": 15,
   "metadata": {
    "collapsed": false
   },
   "outputs": [
    {
     "name": "stdout",
     "output_type": "stream",
     "text": [
      "Matriz de covariâncias para n=100:\n",
      "[[ 4.8304891   3.82963793]\n",
      " [ 3.82963793  3.26508111]]\n",
      "Matriz de covariâncias para n=1000:\n",
      "[[ 3.86007287  2.82878618]\n",
      " [ 2.82878618  2.28903838]]\n",
      "Matriz de covariâncias para n=10000:\n",
      "[[ 4.07449573  2.88870919]\n",
      " [ 2.88870919  2.26790122]]\n"
     ]
    }
   ],
   "source": [
    "#item 1 - Calculando as matrizes de covariâncias\n",
    "n1=100\n",
    "x1, y1 = np.random.multivariate_normal(mean, cov, n1).T\n",
    "\n",
    "print(\"Matriz de covariâncias para n=100:\")\n",
    "print(np.cov(x1,y1))\n",
    "\n",
    "n2=1000\n",
    "x2, y2 = np.random.multivariate_normal(mean, cov, n2).T\n",
    "\n",
    "print(\"Matriz de covariâncias para n=1000:\")\n",
    "print(np.cov(x2,y2))\n",
    "\n",
    "n3=10000\n",
    "x3, y3 = np.random.multivariate_normal(mean, cov, n3).T\n",
    "\n",
    "print(\"Matriz de covariâncias para n=10000:\")\n",
    "print(np.cov(x3,y3))"
   ]
  },
  {
   "cell_type": "code",
   "execution_count": 16,
   "metadata": {
    "collapsed": false
   },
   "outputs": [
    {
     "name": "stdout",
     "output_type": "stream",
     "text": [
      "Média para n=100:  39.8226773343\n",
      "Variância para n=100:  15.5972976164\n",
      "Média para n=1000:  40.0547956053\n",
      "Variância para n=1000:  11.7948769345\n",
      "Média para n=10000:  39.9239203249\n",
      "Variância para n=10000:  12.1186033385\n"
     ]
    }
   ],
   "source": [
    "#item 2 - Calculando as médias e variâncias do gasto\n",
    "G1=0\n",
    "varG=0\n",
    "G=[]\n",
    "\n",
    "G2=0\n",
    "varG2=0\n",
    "G_2=[]\n",
    "\n",
    "G3=0\n",
    "varG3=0\n",
    "G_3=[]\n",
    "\n",
    "for i in range(len(x1)):\n",
    "    G1+=(x1[i]+y1[i])\n",
    "\n",
    "mediaG = G1/100\n",
    "\n",
    "for i in range(len(x1)):\n",
    "    G.append(x1[i]+y1[i])\n",
    "    varG += ((G[i]-mediaG)**2)/100\n",
    "    \n",
    "for i in range(len(x2)):\n",
    "    G2+=(x2[i]+y2[i])\n",
    "\n",
    "mediaG2 = G2/1000\n",
    "\n",
    "for i in range(len(x2)):\n",
    "    G_2.append(x2[i]+y2[i])\n",
    "    varG2 += ((G_2[i]-mediaG2)**2)/1000\n",
    "\n",
    "for i in range(len(x3)):\n",
    "    G3+=(x3[i]+y3[i])\n",
    "\n",
    "mediaG3 = G3/10000\n",
    "\n",
    "for i in range(len(x3)):\n",
    "    G_3.append(x3[i]+y3[i])\n",
    "    varG3 += ((G_3[i]-mediaG3)**2)/10000\n",
    "    \n",
    "print(\"Média para n=100: \", mediaG)\n",
    "print(\"Variância para n=100: \", varG)\n",
    "print(\"Média para n=1000: \", mediaG2)\n",
    "print(\"Variância para n=1000: \", varG2)\n",
    "print(\"Média para n=10000: \", mediaG3)\n",
    "print(\"Variância para n=10000: \", varG3)\n"
   ]
  },
  {
   "cell_type": "code",
   "execution_count": 17,
   "metadata": {
    "collapsed": false
   },
   "outputs": [
    {
     "name": "stdout",
     "output_type": "stream",
     "text": [
      "Média:  39.9\n",
      "Variância:  11.95\n"
     ]
    }
   ],
   "source": [
    "#item 3 - Calculando a média e a variância pela propriedade\n",
    "mediaXY = (muX+muY)\n",
    "variXY = (varX+varY+2*(covXY))\n",
    "\n",
    "print(\"Média: \", mediaXY)\n",
    "print(\"Variância: \", variXY)\n",
    "\n"
   ]
  },
  {
   "cell_type": "code",
   "execution_count": 18,
   "metadata": {
    "collapsed": false
   },
   "outputs": [
    {
     "data": {
      "image/png": "[encoded data removed]",
      "text/plain": [
       "<matplotlib.figure.Figure at 0x1c3dbb0b518>"
      ]
     },
     "metadata": {},
     "output_type": "display_data"
    },
    {
     "data": {
      "image/png": "[encoded data removed]",
      "text/plain": [
       "<matplotlib.figure.Figure at 0x1c3dbfc63c8>"
      ]
     },
     "metadata": {},
     "output_type": "display_data"
    },
    {
     "data": {
      "image/png": "[encoded data removed]",
      "text/plain": [
       "<matplotlib.figure.Figure at 0x1c3dc4aff28>"
      ]
     },
     "metadata": {},
     "output_type": "display_data"
    }
   ],
   "source": [
    "#item 4 - Plotando os gráficos\n",
    "t = np.linspace(25,50,40)\n",
    "plt.hist(G,bins=15, normed = 1)\n",
    "plt.grid(True)\n",
    "plt.title(\"Para N=100\")\n",
    "plt.xlabel(\"Gasto\")\n",
    "plt.ylabel(\"Idas à Santa Efigênia\")\n",
    "plt.plot(t,stats.norm.pdf(t,loc=mediaXY,scale=(variXY**(1/2))), color = \"red\")\n",
    "plt.show()\n",
    "\n",
    "plt.hist(G_2,bins=15, normed = 1, color=\"yellow\")\n",
    "plt.grid(True)\n",
    "plt.title(\"Para N=1000\")\n",
    "plt.xlabel(\"Gasto\")\n",
    "plt.ylabel(\"Idas à Santa Efigênia\")\n",
    "plt.plot(t,stats.norm.pdf(t,loc=mediaXY,scale=(variXY**(1/2))), color = \"red\")\n",
    "plt.show()\n",
    "\n",
    "plt.hist(G_3,bins=15, normed = 1, color=\"green\")\n",
    "plt.grid(True)\n",
    "plt.title(\"Para N=10000\")\n",
    "plt.xlabel(\"Gasto\")\n",
    "plt.ylabel(\"Idas à Santa Efigênia\")\n",
    "plt.plot(t,stats.norm.pdf(t,loc=mediaXY,scale=(variXY**(1/2))), color = \"red\")\n",
    "plt.show()"
   ]
  },
  {
   "cell_type": "markdown",
   "metadata": {},
   "source": [
    "### Quando a correlação é 0:"
   ]
  },
  {
   "cell_type": "code",
   "execution_count": 19,
   "metadata": {
    "collapsed": false
   },
   "outputs": [],
   "source": [
    "corXY2 = 0\n",
    "covXY2 = corXY2*(varX*varY)**(0.5)\n",
    "cov2 = [[varX, covXY2], [covXY2, varY]]\n"
   ]
  },
  {
   "cell_type": "code",
   "execution_count": 20,
   "metadata": {
    "collapsed": false
   },
   "outputs": [
    {
     "name": "stdout",
     "output_type": "stream",
     "text": [
      "Matriz de covariâncias para n=100:\n",
      "[[ 4.72512128  0.4049388 ]\n",
      " [ 0.4049388   2.32498443]]\n",
      "Matriz de covariâncias para n=1000:\n",
      "[[ 3.83000996 -0.05320948]\n",
      " [-0.05320948  2.02849609]]\n",
      "Matriz de covariâncias para n=10000:\n",
      "[[ 4.07039833 -0.01661481]\n",
      " [-0.01661481  2.22811574]]\n"
     ]
    }
   ],
   "source": [
    "#item 1 - Calculando as matrizes de covariâncias\n",
    "n4=100\n",
    "x4, y4 = np.random.multivariate_normal(mean, cov2, n4).T\n",
    "\n",
    "print(\"Matriz de covariâncias para n=100:\")\n",
    "print(np.cov(x4,y4))\n",
    "\n",
    "n5=1000\n",
    "x5, y5 = np.random.multivariate_normal(mean, cov2, n5).T\n",
    "\n",
    "print(\"Matriz de covariâncias para n=1000:\")\n",
    "print(np.cov(x5,y5))\n",
    "\n",
    "n6=10000\n",
    "x6, y6 = np.random.multivariate_normal(mean, cov2, n6).T\n",
    "\n",
    "print(\"Matriz de covariâncias para n=10000:\")\n",
    "print(np.cov(x6,y6))"
   ]
  },
  {
   "cell_type": "code",
   "execution_count": 21,
   "metadata": {
    "collapsed": false
   },
   "outputs": [
    {
     "name": "stdout",
     "output_type": "stream",
     "text": [
      "Média para n=100:  39.2743406872\n",
      "Variância para n=100:  7.78138347628\n",
      "Média para n=1000:  39.8820753064\n",
      "Variância para n=1000:  5.74633501712\n",
      "Média para n=10000:  39.8770429988\n",
      "Variância para n=10000:  6.26465792297\n"
     ]
    }
   ],
   "source": [
    "#item 2 - Calculando as médias e variâncias do gasto\n",
    "G4=0\n",
    "varG4=0\n",
    "G_4=[]\n",
    "\n",
    "G5=0\n",
    "varG5=0\n",
    "G_5=[]\n",
    "\n",
    "G6=0\n",
    "varG6=0\n",
    "G_6=[]\n",
    "\n",
    "for i in range(len(x4)):\n",
    "    G4+=(x4[i]+y4[i])\n",
    "\n",
    "mediaG4 = G4/100\n",
    "\n",
    "for i in range(len(x4)):\n",
    "    G_4.append(x4[i]+y4[i])\n",
    "    varG4 += ((G_4[i]-mediaG4)**2)/100\n",
    "    \n",
    "for i in range(len(x5)):\n",
    "    G5+=(x5[i]+y5[i])\n",
    "\n",
    "mediaG5 = G5/1000\n",
    "\n",
    "for i in range(len(x5)):\n",
    "    G_5.append(x5[i]+y5[i])\n",
    "    varG5 += ((G_5[i]-mediaG5)**2)/1000\n",
    "\n",
    "for i in range(len(x6)):\n",
    "    G6+=(x6[i]+y6[i])\n",
    "\n",
    "mediaG6 = G6/10000\n",
    "\n",
    "for i in range(len(x6)):\n",
    "    G_6.append(x6[i]+y6[i])\n",
    "    varG6 += ((G_6[i]-mediaG6)**2)/10000\n",
    "    \n",
    "print(\"Média para n=100: \", mediaG4)\n",
    "print(\"Variância para n=100: \", varG4)\n",
    "print(\"Média para n=1000: \", mediaG5)\n",
    "print(\"Variância para n=1000: \", varG5)\n",
    "print(\"Média para n=10000: \", mediaG6)\n",
    "print(\"Variância para n=10000: \", varG6)"
   ]
  },
  {
   "cell_type": "code",
   "execution_count": 23,
   "metadata": {
    "collapsed": false
   },
   "outputs": [
    {
     "name": "stdout",
     "output_type": "stream",
     "text": [
      "Média:  39.9\n",
      "Variância:  6.25\n"
     ]
    }
   ],
   "source": [
    "#item 3 - Calculando a média e a variância pela propriedade\n",
    "mediaXY2 = muX + muY\n",
    "variXY2 = varX + varY\n",
    "print(\"Média: \", mediaXY2)\n",
    "print(\"Variância: \", variXY2)"
   ]
  },
  {
   "cell_type": "code",
   "execution_count": 24,
   "metadata": {
    "collapsed": false
   },
   "outputs": [
    {
     "data": {
      "image/png": "[encoded data removed]",
      "text/plain": [
       "<matplotlib.figure.Figure at 0x1c3dd7e4b38>"
      ]
     },
     "metadata": {},
     "output_type": "display_data"
    },
    {
     "data": {
      "image/png": "[encoded data removed]",
      "text/plain": [
       "<matplotlib.figure.Figure at 0x1c3dd523048>"
      ]
     },
     "metadata": {},
     "output_type": "display_data"
    },
    {
     "data": {
      "image/png": "[encoded data removed]",
      "text/plain": [
       "<matplotlib.figure.Figure at 0x1c3dd5537f0>"
      ]
     },
     "metadata": {},
     "output_type": "display_data"
    }
   ],
   "source": [
    "#item 4 - Plotando os gráficos\n",
    "t = np.linspace(25,50,40)\n",
    "plt.hist(G_4,bins=15, normed = 1)\n",
    "plt.grid(True)\n",
    "plt.title(\"Para N=100\")\n",
    "plt.xlabel(\"Gasto\")\n",
    "plt.ylabel(\"Idas à Santa Efigênia\")\n",
    "plt.plot(t,stats.norm.pdf(t,loc=mediaXY2,scale=(variXY2**(1/2))), color = \"red\")\n",
    "plt.show()\n",
    "\n",
    "plt.hist(G_5,bins=15, normed = 1, color=\"yellow\")\n",
    "plt.grid(True)\n",
    "plt.title(\"Para N=1000\")\n",
    "plt.xlabel(\"Gasto\")\n",
    "plt.ylabel(\"Idas à Santa Efigênia\")\n",
    "plt.plot(t,stats.norm.pdf(t,loc=mediaXY2,scale=(variXY2**(1/2))), color = \"red\")\n",
    "plt.show()\n",
    "\n",
    "plt.hist(G_6,bins=15, normed = 1, color=\"green\")\n",
    "plt.grid(True)\n",
    "plt.title(\"Para N=10000\")\n",
    "plt.xlabel(\"Gasto\")\n",
    "plt.ylabel(\"Idas à Santa Efigênia\")\n",
    "plt.plot(t,stats.norm.pdf(t,loc=mediaXY2,scale=(variXY2**(1/2))), color = \"red\")\n",
    "plt.show()"
   ]
  },
  {
   "cell_type": "code",
   "execution_count": null,
   "metadata": {
    "collapsed": true
   },
   "outputs": [],
   "source": []
  }
 ],
 "metadata": {
  "anaconda-cloud": {},
  "kernelspec": {
   "display_name": "Python 3",
   "language": "python",
   "name": "python3"
  },
  "language_info": {
   "codemirror_mode": {
    "name": "ipython",
    "version": 3
   },
   "file_extension": ".py",
   "mimetype": "text/x-python",
   "name": "python",
   "nbconvert_exporter": "python",
   "pygments_lexer": "ipython3",
   "version": "3.5.1"
  }
 },
 "nbformat": 4,
 "nbformat_minor": 0
}
